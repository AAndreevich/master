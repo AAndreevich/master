{
  "cells": [
    {
      "cell_type": "code",
      "execution_count": 1,
      "metadata": {
        "id": "vc2V2N6uo2SW"
      },
      "outputs": [],
      "source": [
        "import torch\n",
        "import numpy as np"
      ]
    },
    {
      "cell_type": "code",
      "execution_count": 2,
      "metadata": {
        "id": "VsnWHHFzo2SY",
        "colab": {
          "base_uri": "https://localhost:8080/"
        },
        "outputId": "5f9d08a4-07e2-4073-81d4-c3f5f3562e4c"
      },
      "outputs": [
        {
          "output_type": "execute_result",
          "data": {
            "text/plain": [
              "tensor([[[8., 2., 7., 1., 6.],\n",
              "         [8., 1., 6., 6., 1.],\n",
              "         [5., 8., 7., 1., 5.],\n",
              "         [8., 5., 6., 8., 2.]],\n",
              "\n",
              "        [[7., 6., 7., 2., 5.],\n",
              "         [2., 5., 5., 6., 7.],\n",
              "         [4., 8., 5., 8., 8.],\n",
              "         [7., 6., 6., 7., 5.]],\n",
              "\n",
              "        [[7., 5., 2., 4., 7.],\n",
              "         [2., 3., 5., 7., 5.],\n",
              "         [4., 2., 5., 1., 3.],\n",
              "         [6., 1., 8., 7., 6.]]])"
            ]
          },
          "metadata": {},
          "execution_count": 2
        }
      ],
      "source": [
        "# Создайте случайный FloatTensor размера 3x4x5\n",
        "a = torch.randint(1,9,(3,4,5)).type(torch.FloatTensor)\n",
        "a"
      ]
    },
    {
      "cell_type": "code",
      "execution_count": 3,
      "metadata": {
        "id": "2MBuR-pjo2Sa",
        "colab": {
          "base_uri": "https://localhost:8080/"
        },
        "outputId": "1cd7ca51-c067-4c57-b82a-36f063e0e243"
      },
      "outputs": [
        {
          "output_type": "execute_result",
          "data": {
            "text/plain": [
              "(torch.Size([3, 4, 5]), 'torch.FloatTensor')"
            ]
          },
          "metadata": {},
          "execution_count": 3
        }
      ],
      "source": [
        "# Выведите его форму (shape)\n",
        "a.shape, a.type()"
      ]
    },
    {
      "cell_type": "code",
      "execution_count": 4,
      "metadata": {
        "id": "xsVi5i5Fo2Sb",
        "colab": {
          "base_uri": "https://localhost:8080/"
        },
        "outputId": "10a36590-cca9-4050-9306-9a2f26c6e907"
      },
      "outputs": [
        {
          "output_type": "execute_result",
          "data": {
            "text/plain": [
              "(tensor([[8., 2., 7., 1., 6., 8., 1., 6., 6., 1.],\n",
              "         [5., 8., 7., 1., 5., 8., 5., 6., 8., 2.],\n",
              "         [7., 6., 7., 2., 5., 2., 5., 5., 6., 7.],\n",
              "         [4., 8., 5., 8., 8., 7., 6., 6., 7., 5.],\n",
              "         [7., 5., 2., 4., 7., 2., 3., 5., 7., 5.],\n",
              "         [4., 2., 5., 1., 3., 6., 1., 8., 7., 6.]]),\n",
              " torch.Size([6, 10]))"
            ]
          },
          "metadata": {},
          "execution_count": 4
        }
      ],
      "source": [
        "# Приведите его к форме 6 X 10\n",
        "b = a.reshape((6,10))\n",
        "b, b.size()"
      ]
    },
    {
      "cell_type": "code",
      "execution_count": 5,
      "metadata": {
        "id": "T3hMkyreo2Sc",
        "colab": {
          "base_uri": "https://localhost:8080/"
        },
        "outputId": "7e38ff12-85c4-42d0-dfc4-7f374d17cb22"
      },
      "outputs": [
        {
          "output_type": "execute_result",
          "data": {
            "text/plain": [
              "tensor([[[ 8.,  8., 14.,  2.,  6.],\n",
              "         [ 8.,  4., 12., 12.,  1.],\n",
              "         [ 5., 32., 14.,  2.,  5.],\n",
              "         [ 8., 20., 12., 16.,  2.]],\n",
              "\n",
              "        [[ 7., 24., 14.,  4.,  5.],\n",
              "         [ 2., 20., 10., 12.,  7.],\n",
              "         [ 4., 32., 10., 16.,  8.],\n",
              "         [ 7., 24., 12., 14.,  5.]],\n",
              "\n",
              "        [[ 7., 20.,  4.,  8.,  7.],\n",
              "         [ 2., 12., 10., 14.,  5.],\n",
              "         [ 4.,  8., 10.,  2.,  3.],\n",
              "         [ 6.,  4., 16., 14.,  6.]]])"
            ]
          },
          "metadata": {},
          "execution_count": 5
        }
      ],
      "source": [
        "# Умножьте его на вектор [1, 4, 2, 2, 1] поэлементно\n",
        "x = torch.FloatTensor([1,4,2,2,1])\n",
        "y = a * x\n",
        "y"
      ]
    },
    {
      "cell_type": "code",
      "execution_count": 6,
      "metadata": {
        "id": "6HKwwxcOo2Sd",
        "colab": {
          "base_uri": "https://localhost:8080/"
        },
        "outputId": "9ce4e417-fe44-42f6-ab7f-fa0a4ab60f80"
      },
      "outputs": [
        {
          "output_type": "execute_result",
          "data": {
            "text/plain": [
              "(tensor([[292., 291., 243., 284., 222., 235.],\n",
              "         [291., 357., 292., 355., 255., 256.],\n",
              "         [243., 292., 302., 318., 257., 233.],\n",
              "         [284., 355., 318., 428., 302., 264.],\n",
              "         [222., 255., 257., 302., 255., 207.],\n",
              "         [235., 256., 233., 264., 207., 241.]]),\n",
              " torch.Size([6, 6]))"
            ]
          },
          "metadata": {},
          "execution_count": 6
        }
      ],
      "source": [
        "# Умножьте тензор матрично на себя, чтобы результат был размерности 6x6\n",
        "b2 = torch.matmul(b, b.T)\n",
        "b2, b2.size()"
      ]
    },
    {
      "cell_type": "code",
      "execution_count": 7,
      "metadata": {
        "id": "hgi3_dfbo2Se"
      },
      "outputs": [],
      "source": [
        "# Посчитайте производную функции y = x**3 + z - 75t в точке (1, 0.5, 2)\n",
        "x = torch.tensor([1.0], requires_grad=True)\n",
        "z = torch.tensor([0.5], requires_grad=True)\n",
        "t = torch.tensor([2.0], requires_grad=True)"
      ]
    },
    {
      "cell_type": "code",
      "source": [
        "y = x**3 + z - 75*t"
      ],
      "metadata": {
        "id": "pmFbXD7uvfX3"
      },
      "execution_count": 8,
      "outputs": []
    },
    {
      "cell_type": "markdown",
      "source": [
        "## 3x^2 + 1 - 75"
      ],
      "metadata": {
        "id": "195p6hfs0twe"
      }
    },
    {
      "cell_type": "code",
      "source": [
        "y.backward()"
      ],
      "metadata": {
        "id": "NC4o9KsivxVA"
      },
      "execution_count": 9,
      "outputs": []
    },
    {
      "cell_type": "code",
      "source": [
        "x.grad, z.grad, t.grad"
      ],
      "metadata": {
        "colab": {
          "base_uri": "https://localhost:8080/"
        },
        "id": "sY6hWqnrv_AN",
        "outputId": "8cd59198-f4fa-4b5a-a58b-a9220ea9692b"
      },
      "execution_count": 10,
      "outputs": [
        {
          "output_type": "execute_result",
          "data": {
            "text/plain": [
              "(tensor([3.]), tensor([1.]), tensor([-75.]))"
            ]
          },
          "metadata": {},
          "execution_count": 10
        }
      ]
    },
    {
      "cell_type": "code",
      "execution_count": 11,
      "metadata": {
        "id": "_5LyGXB_o2Sf",
        "colab": {
          "base_uri": "https://localhost:8080/"
        },
        "outputId": "36a30f86-3c8a-443b-caba-f9a0336d60b6"
      },
      "outputs": [
        {
          "output_type": "execute_result",
          "data": {
            "text/plain": [
              "tensor([[1., 1., 1., 1., 1., 1.],\n",
              "        [1., 1., 1., 1., 1., 1.],\n",
              "        [1., 1., 1., 1., 1., 1.],\n",
              "        [1., 1., 1., 1., 1., 1.],\n",
              "        [1., 1., 1., 1., 1., 1.]])"
            ]
          },
          "metadata": {},
          "execution_count": 11
        }
      ],
      "source": [
        "# Создайте единичный тензор размера 5x6\n",
        "ed = torch.ones((5,6))\n",
        "ed"
      ]
    },
    {
      "cell_type": "code",
      "execution_count": 12,
      "metadata": {
        "id": "5vTRwKumo2Sg",
        "colab": {
          "base_uri": "https://localhost:8080/"
        },
        "outputId": "80f2f3f3-ee41-45dc-96fe-20bfa4449dbe"
      },
      "outputs": [
        {
          "output_type": "execute_result",
          "data": {
            "text/plain": [
              "array([[1., 1., 1., 1., 1., 1.],\n",
              "       [1., 1., 1., 1., 1., 1.],\n",
              "       [1., 1., 1., 1., 1., 1.],\n",
              "       [1., 1., 1., 1., 1., 1.],\n",
              "       [1., 1., 1., 1., 1., 1.]], dtype=float32)"
            ]
          },
          "metadata": {},
          "execution_count": 12
        }
      ],
      "source": [
        "# Переведите его в формат numpy\n",
        "ed.numpy()"
      ]
    },
    {
      "cell_type": "code",
      "execution_count": 23,
      "metadata": {
        "id": "_F7kXlkNo2Sh",
        "colab": {
          "base_uri": "https://localhost:8080/"
        },
        "outputId": "add25390-c6c3-4f7c-af8f-ca23fef01a8e"
      },
      "outputs": [
        {
          "output_type": "execute_result",
          "data": {
            "text/plain": [
              "(tensor([4.]), tensor([5.5452]))"
            ]
          },
          "metadata": {},
          "execution_count": 23
        }
      ],
      "source": [
        "# Давайте теперь пооптимизируем: возьмите функцию y = x**w1 - 2 * x**2 + 5\n",
        "# Посчитайте\n",
        "x = torch.tensor([2.0], requires_grad=True)\n",
        "w1 = torch.tensor([3.0], requires_grad=True)\n",
        "y = x**w1 - 2 * x**2 + 5\n",
        "y.backward()\n",
        "x.grad, w1.grad"
      ]
    },
    {
      "cell_type": "code",
      "source": [],
      "metadata": {
        "id": "ok4p3jmSSAJa"
      },
      "execution_count": null,
      "outputs": []
    }
  ],
  "metadata": {
    "kernelspec": {
      "display_name": "Python 3",
      "name": "python3"
    },
    "language_info": {
      "codemirror_mode": {
        "name": "ipython",
        "version": 3
      },
      "file_extension": ".py",
      "mimetype": "text/x-python",
      "name": "python",
      "nbconvert_exporter": "python",
      "pygments_lexer": "ipython3",
      "version": "3.7.4"
    },
    "colab": {
      "provenance": []
    }
  },
  "nbformat": 4,
  "nbformat_minor": 0
}