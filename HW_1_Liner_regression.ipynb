{
  "nbformat": 4,
  "nbformat_minor": 0,
  "metadata": {
    "colab": {
      "name": "HW_1_Liner_regression.ipynb",
      "provenance": [],
      "collapsed_sections": [],
      "authorship_tag": "ABX9TyMQ7UaPsmFmTp7JofQ22jrY",
      "include_colab_link": true
    },
    "kernelspec": {
      "name": "python3",
      "display_name": "Python 3"
    },
    "language_info": {
      "name": "python"
    }
  },
  "cells": [
    {
      "cell_type": "markdown",
      "metadata": {
        "id": "view-in-github",
        "colab_type": "text"
      },
      "source": [
        "<a href=\"https://colab.research.google.com/github/AAndreevich/master/blob/master/HW_1_Liner_regression.ipynb\" target=\"_parent\"><img src=\"https://colab.research.google.com/assets/colab-badge.svg\" alt=\"Open In Colab\"/></a>"
      ]
    },
    {
      "cell_type": "code",
      "execution_count": null,
      "metadata": {
        "id": "GOYjCBf76Tx2"
      },
      "outputs": [],
      "source": [
        "import numpy as np\n",
        "import matplotlib.pyplot as plt"
      ]
    },
    {
      "cell_type": "code",
      "source": [
        "def calc_mae(y, y_pred):\n",
        "    err = np.mean(np.abs(y - y_pred))\n",
        "    return err\n",
        "\n",
        "def calc_mse(y, y_pred):\n",
        "    err = np.mean((y - y_pred)**2)\n",
        "    return err\n",
        "\n",
        "\n",
        "alpha = 0\n",
        "max_alpha = 1\n",
        "iteration = 0\n",
        "stoper = 1e-8\n",
        "count = 1000\n",
        "COUNT = 10\n",
        "f = []\n",
        "g = []\n",
        "alpha_count = -1"
      ],
      "metadata": {
        "id": "Aik7ChdH6fJv"
      },
      "execution_count": null,
      "outputs": []
    },
    {
      "cell_type": "code",
      "source": [
        "while alpha < max_alpha:\n",
        "    alpha_list = np.arange(0.01, 1.01, 0.001)\n",
        "    alpha_count += 1\n",
        "    alpha = alpha_list[alpha_count]\n",
        "    iteration += 10\n",
        "    X = np.array([[1, 1, 1, 1, 1, 1, 1, 1, 1, 1],\n",
        "              [1, 1, 2, 5, 3, 0, 5, 10, 1, 2]])\n",
        "    y = [45, 55, 50, 55, 60, 35, 75, 80, 50, 60]\n",
        "    W = np.array([1, 0.5])\n",
        "    n = X.shape[1]\n",
        "    g.append(alpha)\n",
        "    f = []\n",
        "    if alpha <= 0.01:\n",
        "        max_iteration = 10\n",
        "    else:\n",
        "        max_iteration = iteration\n",
        "    \n",
        "    if max_iteration > 1000:\n",
        "        COUNT = 100\n",
        "\n",
        "    for i in range(max_iteration):\n",
        "        y_pred = np.dot(W, X)\n",
        "        err = calc_mse(y, y_pred)\n",
        "        f.append(round(err,2))\n",
        "        for k in range(len(W)):\n",
        "            W[k] -= alpha * (1/n * 2 * np.sum(X[k] * (y_pred - y)))\n",
        "        if i % COUNT == 0:\n",
        "            alpha /= 1.1\n",
        "            f.append(round(err,2))\n",
        "            c += 1\n",
        "    if (max_iteration > count) or (abs(f[-1] - f[-2]) < stoper):\n",
        "        break\n",
        "            \n",
        "print((f[-1] - f[-2]), len(f), round(alpha, 5), f[-3:], round(g[-1], 4))"
      ],
      "metadata": {
        "colab": {
          "base_uri": "https://localhost:8080/"
        },
        "id": "L9Ab_r926ltu",
        "outputId": "5c49ba61-bcb3-4cfe-8e92-8eb49025f556"
      },
      "execution_count": null,
      "outputs": [
        {
          "output_type": "stream",
          "name": "stdout",
          "text": [
            "0.0 297 0.00275 [45.72, 45.71, 45.71] 0.036\n"
          ]
        }
      ]
    },
    {
      "cell_type": "code",
      "source": [
        "print(f'Number of objects = {n} \\\n",
        "       \\nLearning rate = {round(alpha, 4)} \\\n",
        "       \\nCount iteration = {len(f)} \\\n",
        "       \\nInitial weights = {W} \\n')\n",
        "\n",
        "plt.figure(figsize=(13, 6))\n",
        "plt.plot(range(len(f)), f)\n",
        "plt.title('MSE')\n",
        "plt.xlabel('Iteration number')\n",
        "plt.ylabel('MSE')\n",
        "plt.grid(True)\n",
        "plt.legend()\n",
        "plt.show()"
      ],
      "metadata": {
        "colab": {
          "base_uri": "https://localhost:8080/",
          "height": 511
        },
        "id": "lsVfhzDb6ogh",
        "outputId": "1cfb1986-02fa-4afe-f3e6-bd00695f4e92"
      },
      "execution_count": null,
      "outputs": [
        {
          "output_type": "stream",
          "name": "stderr",
          "text": [
            "WARNING:matplotlib.legend:No handles with labels found to put in legend.\n"
          ]
        },
        {
          "output_type": "stream",
          "name": "stdout",
          "text": [
            "Number of objects = 10        \n",
            "Learning rate = 0.0027        \n",
            "Count iteration = 297        \n",
            "Initial weights = [43.14688973  4.15986639] \n",
            "\n"
          ]
        },
        {
          "output_type": "display_data",
          "data": {
            "text/plain": [
              "<Figure size 936x432 with 1 Axes>"
            ],
            "image/png": "[encoded data removed]"
          },
          "metadata": {
            "needs_background": "light"
          }
        }
      ]
    }
  ]
}