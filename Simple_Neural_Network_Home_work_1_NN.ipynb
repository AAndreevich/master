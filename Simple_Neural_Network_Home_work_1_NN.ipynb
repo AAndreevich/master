{
 "cells": [
  {
   "cell_type": "markdown",
   "metadata": {
    "id": "WZ1zS4kdPzj7"
   },
   "source": [
    "## Двухслойная нейронная сеть на numpy"
   ]
  },
  {
   "cell_type": "code",
   "execution_count": 1,
   "metadata": {
    "colab": {
     "base_uri": "https://localhost:8080/",
     "height": 851
    },
    "id": "cuOixqmrPzj7",
    "outputId": "c014f815-663f-4c6e-d607-daa81877f80d"
   },
   "outputs": [],
   "source": [
    "'''\n",
    "Построение двухслойной нейронный сети для классификации цветков ириса\n",
    "'''\n",
    "\n",
    "import numpy as np\n",
    "import pandas as pd\n",
    "import seaborn as sns\n",
    "import matplotlib.pyplot as plt\n",
    "\n",
    "import warnings\n",
    "warnings.simplefilter(action='ignore', category=FutureWarning)\n",
    "\n",
    "# sklearn здесь только, чтобы разделить выборку на тренировочную и тестовую\n",
    "from sklearn.model_selection import train_test_split"
   ]
  },
  {
   "cell_type": "code",
   "execution_count": 2,
   "metadata": {
    "colab": {
     "base_uri": "https://localhost:8080/",
     "height": 851
    },
    "id": "cuOixqmrPzj7",
    "outputId": "c014f815-663f-4c6e-d607-daa81877f80d"
   },
   "outputs": [],
   "source": [
    "### Шаг 1. Определение функций, которые понадобяться для обучения\n",
    "\n",
    "class Simple_Neural_Network:\n",
    "    \n",
    "    def __init__(self):\n",
    "            pass\n",
    "\n",
    "    # преобразование массива в бинарный вид результатов\n",
    "    def to_one_hot(slef, Y):\n",
    "        n_col = np.amax(Y) + 1\n",
    "        binarized = np.zeros((len(Y), n_col))\n",
    "        for i in range(len(Y)):\n",
    "            binarized[i, Y[i]] = 1.\n",
    "        return binarized\n",
    "\n",
    "    # преобразование массива в необходимый вид\n",
    "    def from_one_hot(self, Y):\n",
    "        arr = np.zeros((len(Y), 1))\n",
    "        for i in range(len(Y)):\n",
    "            l = layer2[i]\n",
    "            for j in range(len(l)):\n",
    "                if(l[j] == 1):\n",
    "                    arr[i] = j+1\n",
    "        return arr\n",
    "\n",
    "    # сигмоида и ее производная\n",
    "    def sigmoid(self, x):\n",
    "        return 1/(1+np.exp(-x))\n",
    "\n",
    "    def sigmoid_deriv(self, x):\n",
    "        return self.sigmoid(x)*(1 - self.sigmoid(x))\n",
    "\n",
    "    # нормализация массива\n",
    "    def normalize(self, X, axis=-1, order=2):\n",
    "        l2 = np.atleast_1d(np.linalg.norm(X, order, axis))\n",
    "        l2[l2 == 0] = 1\n",
    "        return X / np.expand_dims(l2, axis)\n",
    "    \n",
    "    # Поиск наилучших параметров для построения модели\n",
    "    def searh_best_params(self, X, y, iterations, learnin_rate, weight1, weight2):\n",
    "        if (type(learnin_rate) != list) or (type(iterations) != list):\n",
    "            print('learnin_rate or iterations is not list')\n",
    "        else:\n",
    "            learnin_rate = learnin_rate\n",
    "            iterations = iterations\n",
    "        dict_errors = {}\n",
    "        for step_learning in learning_list:\n",
    "            for step_iter in iterations_list:\n",
    "                # процесс обучения\n",
    "                X_new = X\n",
    "                y_new = y\n",
    "                errors = []\n",
    "                w0 = weight1\n",
    "                w1 = weight2\n",
    "                for i in range(step_iter): #100,000\n",
    "\n",
    "                    # прямое распространение(feed forward)\n",
    "                    layer0 = X_new\n",
    "                    layer1 = self.sigmoid(np.dot(layer0, w0))\n",
    "                    layer2 = self.sigmoid(np.dot(layer1, w1))\n",
    "\n",
    "                    # обратное распространение(back propagation) с использованием градиентного спуска\n",
    "                    layer2_error = y_new - layer2\n",
    "                    layer2_delta = layer2_error * self.sigmoid_deriv(layer2)\n",
    "\n",
    "                    layer1_error = layer2_delta.dot(w1.T)\n",
    "                    layer1_delta = layer1_error * self.sigmoid_deriv(layer1)\n",
    "\n",
    "                    w1 += layer1.T.dot(layer2_delta) * step_learning\n",
    "                    w0 += layer0.T.dot(layer1_delta) * step_learning\n",
    "\n",
    "                    error = np.mean(np.abs(layer2_error))\n",
    "                    errors.append(error)\n",
    "                    dict_errors[f'stplrn={step_learning}_stpitr={step_iter}'] = errors\n",
    "                    accuracy = (1 - error) * 100\n",
    "                    dict_errors[f'accurasy_in_lrn={step_learning}_itr={step_iter}'] = accuracy\n",
    "        \n",
    "        return dict_errors\n",
    "    \n",
    "    \n",
    "    def find_solution(self, X, y, iterations, learnin_rate, weight1, weight2):\n",
    "        errors = []\n",
    "        w0 = weight1\n",
    "        w1 = weight2\n",
    "        # процесс обучения\n",
    "        for i in range(iterations):\n",
    "\n",
    "            # прямое распространение(feed forward)\n",
    "            layer0 = X\n",
    "            layer1 = self.sigmoid(np.dot(layer0, w0))\n",
    "            layer2 = self.sigmoid(np.dot(layer1, w1))\n",
    "\n",
    "            # обратное распространение(back propagation) с использованием градиентного спуска\n",
    "            layer2_error = y - layer2\n",
    "            layer2_delta = layer2_error * self.sigmoid_deriv(layer2)\n",
    "\n",
    "            layer1_error = layer2_delta.dot(w1.T)\n",
    "            layer1_delta = layer1_error * self.sigmoid_deriv(layer1)\n",
    "\n",
    "            w1 += layer1.T.dot(layer2_delta) * learnin_rate\n",
    "            w0 += layer0.T.dot(layer1_delta) * learnin_rate\n",
    "\n",
    "            error = np.mean(np.abs(layer2_error))\n",
    "            errors.append(error)\n",
    "            accuracy = (1 - error) * 100\n",
    "        \n",
    "        return errors, accuracy"
   ]
  },
  {
   "cell_type": "code",
   "execution_count": 3,
   "metadata": {},
   "outputs": [],
   "source": [
    "S = Simple_Neural_Network()"
   ]
  },
  {
   "cell_type": "code",
   "execution_count": 4,
   "metadata": {
    "colab": {
     "base_uri": "https://localhost:8080/",
     "height": 851
    },
    "id": "cuOixqmrPzj7",
    "outputId": "c014f815-663f-4c6e-d607-daa81877f80d"
   },
   "outputs": [],
   "source": [
    "### Шаг 2. Подготовка тренировочных данных\n",
    "# получения данных из csv файла. укажите здесь путь к файлу Iris.csv\n",
    "iris_data = pd.read_csv('D:Учеба/Neural_Network/Task1/Iris.csv')\n",
    "# print(iris_data.head()) # расскоментируйте, чтобы посмотреть структуру данных"
   ]
  },
  {
   "cell_type": "code",
   "execution_count": 5,
   "metadata": {
    "colab": {
     "base_uri": "https://localhost:8080/",
     "height": 851
    },
    "id": "cuOixqmrPzj7",
    "outputId": "c014f815-663f-4c6e-d607-daa81877f80d"
   },
   "outputs": [],
   "source": [
    "# замена текстовых значений на цифровые\n",
    "iris_data['Species'].replace(['Iris-setosa', 'Iris-virginica', 'Iris-versicolor'], [0, 1, 2], inplace=True)"
   ]
  },
  {
   "cell_type": "code",
   "execution_count": 6,
   "metadata": {
    "colab": {
     "base_uri": "https://localhost:8080/",
     "height": 851
    },
    "id": "cuOixqmrPzj7",
    "outputId": "c014f815-663f-4c6e-d607-daa81877f80d"
   },
   "outputs": [],
   "source": [
    "# формирование входных данных\n",
    "columns = ['SepalLengthCm', 'SepalWidthCm', 'PetalLengthCm', 'PetalWidthCm']\n",
    "x = pd.DataFrame(iris_data, columns=columns)\n",
    "x = S.normalize(x.values)"
   ]
  },
  {
   "cell_type": "code",
   "execution_count": 7,
   "metadata": {
    "colab": {
     "base_uri": "https://localhost:8080/",
     "height": 851
    },
    "id": "cuOixqmrPzj7",
    "outputId": "c014f815-663f-4c6e-d607-daa81877f80d"
   },
   "outputs": [],
   "source": [
    "# формирование выходных данных(результатов)\n",
    "columns = ['Species']\n",
    "y = pd.DataFrame(iris_data, columns=columns)\n",
    "y = y.values\n",
    "y = y.flatten()\n",
    "y = S.to_one_hot(y)"
   ]
  },
  {
   "cell_type": "code",
   "execution_count": 8,
   "metadata": {
    "colab": {
     "base_uri": "https://localhost:8080/",
     "height": 851
    },
    "id": "cuOixqmrPzj7",
    "outputId": "c014f815-663f-4c6e-d607-daa81877f80d"
   },
   "outputs": [],
   "source": [
    "# Разделение данных на тренировочные и тестовые\n",
    "X_train, X_test, y_train, y_test = train_test_split(x, y, test_size=0.33)"
   ]
  },
  {
   "cell_type": "code",
   "execution_count": 9,
   "metadata": {
    "colab": {
     "base_uri": "https://localhost:8080/",
     "height": 851
    },
    "id": "cuOixqmrPzj7",
    "outputId": "c014f815-663f-4c6e-d607-daa81877f80d"
   },
   "outputs": [],
   "source": [
    "### Шаг 3. Обученние нейронной сети\n",
    "# присваевание случайных весов\n",
    "w00 = 2*np.random.random((4, 5)) - 1 # для входного слоя   - 4 входа, 3 выхода\n",
    "w11 = 2*np.random.random((5, 3)) - 1 # для внутреннего слоя - 5 входов, 3 выхода"
   ]
  },
  {
   "cell_type": "code",
   "execution_count": 10,
   "metadata": {},
   "outputs": [],
   "source": [
    "learning_list = [0.001, 0.002, 0.003]\n",
    "iterations_list = [100, 1000, 10000]"
   ]
  },
  {
   "cell_type": "code",
   "execution_count": 11,
   "metadata": {
    "scrolled": true
   },
   "outputs": [],
   "source": [
    "errors_dict = S.searh_best_params(X_train, y_train, iterations_list, learning_list, w00, w11)"
   ]
  },
  {
   "cell_type": "code",
   "execution_count": 12,
   "metadata": {},
   "outputs": [
    {
     "name": "stdout",
     "output_type": "stream",
     "text": [
      "accurasy_in_lrn=0.001_itr=100 = 52.32%\n",
      "accurasy_in_lrn=0.001_itr=1000 = 56.51%\n",
      "accurasy_in_lrn=0.001_itr=10000 = 78.61%\n",
      "accurasy_in_lrn=0.002_itr=100 = 78.69%\n",
      "accurasy_in_lrn=0.002_itr=1000 = 79.51%\n",
      "accurasy_in_lrn=0.002_itr=10000 = 87.46%\n",
      "accurasy_in_lrn=0.003_itr=100 = 87.6%\n",
      "accurasy_in_lrn=0.003_itr=1000 = 88.78%\n",
      "accurasy_in_lrn=0.003_itr=10000 = 92.83%\n"
     ]
    }
   ],
   "source": [
    "for k in errors_dict.keys():\n",
    "    if 'accurasy_in_' in k:\n",
    "        print(f'{k} = {round(errors_dict[k], 2)}%')"
   ]
  },
  {
   "cell_type": "code",
   "execution_count": 13,
   "metadata": {
    "colab": {
     "base_uri": "https://localhost:8080/",
     "height": 851
    },
    "id": "cuOixqmrPzj7",
    "outputId": "c014f815-663f-4c6e-d607-daa81877f80d"
   },
   "outputs": [
    {
     "data": {
      "image/png": "[encoded data removed]",
      "text/plain": [
       "<Figure size 432x288 with 1 Axes>"
      ]
     },
     "metadata": {
      "needs_background": "light"
     },
     "output_type": "display_data"
    },
    {
     "name": "stdout",
     "output_type": "stream",
     "text": [
      "Точность нейронной сети 78.61%\n"
     ]
    }
   ],
   "source": [
    "### Шаг 4. Демонстрация полученных результатов\n",
    "# черчение диаграммы точности в зависимости от обучения\n",
    "plt.plot(errors_dict['stplrn=0.001_stpitr=10000'])\n",
    "plt.xlabel('Обучение')\n",
    "plt.ylabel('Ошибка')\n",
    "plt.show() # расскоментируйте, чтобы посмотреть\n",
    "\n",
    "print(\"Точность нейронной сети \" + str(round(errors_dict['accurasy_in_lrn=0.001_itr=10000'],2)) + \"%\")"
   ]
  },
  {
   "cell_type": "code",
   "execution_count": 14,
   "metadata": {},
   "outputs": [],
   "source": [
    "err, acc = S.find_solution(X_train, y_train, 10000, 0.001, w00, w11)"
   ]
  },
  {
   "cell_type": "code",
   "execution_count": 15,
   "metadata": {
    "colab": {
     "base_uri": "https://localhost:8080/",
     "height": 851
    },
    "id": "cuOixqmrPzj7",
    "outputId": "c014f815-663f-4c6e-d607-daa81877f80d"
   },
   "outputs": [
    {
     "data": {
      "image/png": "[encoded data removed]",
      "text/plain": [
       "<Figure size 432x288 with 1 Axes>"
      ]
     },
     "metadata": {
      "needs_background": "light"
     },
     "output_type": "display_data"
    },
    {
     "name": "stdout",
     "output_type": "stream",
     "text": [
      "Точность нейронной сети 93.16%\n"
     ]
    }
   ],
   "source": [
    "### Шаг 4. Демонстрация полученных результатов\n",
    "# черчение диаграммы точности в зависимости от обучения\n",
    "plt.plot(err)\n",
    "plt.xlabel('Обучение')\n",
    "plt.ylabel('Ошибка')\n",
    "plt.show() # расскоментируйте, чтобы посмотреть\n",
    "\n",
    "print(\"Точность нейронной сети \" + str(round(acc,2)) + \"%\")"
   ]
  },
  {
   "cell_type": "markdown",
   "metadata": {},
   "source": [
    "Создал функцию для поиска наилудчших параметров (searh_best_params), при этом, сохраняя все списки ошибок и расчеты точности в словарь (dict_errors)\n",
    "Далее, вызываю обычную функцию обучения (find_solution) передаю в неё подобраные параметры и получаю абсолютно другой результат...\n",
    "Почему, не понятно?\n",
    "Например наидчший параметр по результатам (searh_best_params) был 10000 итераций и скорость обучения 0.001 точность модель 78%\n",
    "Передаю параметры 10000 и 0.001 в функцию (find_solution) прямого обучения получаю точность модели 93%"
   ]
  },
  {
   "cell_type": "markdown",
   "metadata": {},
   "source": [
    "На точность модели влияет количество итераций и скорость обучения.\n",
    "Чем ниже скорость обучения (learning_rate -> 1) тем ниже точность\n",
    "Увеличение количества итераций (Iterations -> inf) также влияет на точность, но при этом, не должно быть достаточно большим, чтобы не перегружать память и увиличивать время."
   ]
  },
  {
   "cell_type": "code",
   "execution_count": null,
   "metadata": {},
   "outputs": [],
   "source": []
  }
 ],
 "metadata": {
  "colab": {
   "provenance": []
  },
  "kernelspec": {
   "display_name": "Python 3",
   "language": "python",
   "name": "python3"
  },
  "language_info": {
   "codemirror_mode": {
    "name": "ipython",
    "version": 3
   },
   "file_extension": ".py",
   "mimetype": "text/x-python",
   "name": "python",
   "nbconvert_exporter": "python",
   "pygments_lexer": "ipython3",
   "version": "3.8.8"
  }
 },
 "nbformat": 4,
 "nbformat_minor": 1
}
