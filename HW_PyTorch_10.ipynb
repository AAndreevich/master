{
  "nbformat": 4,
  "nbformat_minor": 0,
  "metadata": {
    "colab": {
      "provenance": [],
      "toc_visible": true
    },
    "kernelspec": {
      "name": "python3",
      "display_name": "Python 3"
    },
    "language_info": {
      "name": "python"
    }
  },
  "cells": [
    {
      "cell_type": "markdown",
      "source": [
        "# **Задание по итогам курса:**\n",
        "\n",
        "- (упрощенное/для тех, у кого нет вебкамеры)\n",
        "    1. Нужно написать приложение, которое будет получать на вход *изображение*.\n",
        "    2. В процессе определять, что перед камерой находится человек, задетектировав его лицо на кадре.\n",
        "    3. На изображении человек показывает жесты руками, а алгоритм должен считать их и классифицировать.\n",
        "\n",
        "- (более сложное)\n",
        "    1. Нужно написать приложение, которое будет считывать и выводить кадры с *веб-камеры*.\n",
        "    2. В процессе считывания определять что перед камерой находится человек, задетектировав его лицо на кадре.\n",
        "    3. Человек показывает жесты руками, а алгоритм должен считать их и классифицировать.\n",
        "____________________\n",
        "- Для распознавания жестов, вам надо будет скачать датасет https://www.kaggle.com/gti-upm/leapgestrecog, разработать модель для обучения и обучить эту модель.\n",
        "- Как работать с веб-камерой на google colab https://stackoverflow.com/questions/54389727/opening-web-camera-in-google-colab\n",
        "\n",
        "\n",
        "У кого нет возможности работать через каггл (нет верификации), то можете данные взять по ссылке: https://disk.yandex.ru/d/R2PGlaXDf6_HzQ"
      ],
      "metadata": {
        "id": "RIRHrwOEC3HZ"
      }
    },
    {
      "cell_type": "markdown",
      "source": [
        "## 1 Подключение библиотек"
      ],
      "metadata": {
        "id": "XwVQQTegEyk7"
      }
    },
    {
      "cell_type": "code",
      "source": [
        "import os\n",
        "import cv2\n",
        "import time\n",
        "import torch\n",
        "import shutil\n",
        "import numpy as np\n",
        "import matplotlib.pyplot as plt\n",
        "import torch.nn as nn\n",
        "import torch.nn.functional as F\n",
        "import torchvision.transforms as tt\n",
        "from torchvision.datasets import ImageFolder\n",
        "from torch.utils.data import DataLoader\n",
        "import torch.optim as opt\n",
        "from google.colab import drive\n",
        "from torchvision.utils import make_grid\n",
        "from torch.autograd import Variable\n",
        "import pandas as pd\n",
        "from PIL import Image\n",
        "from sklearn.model_selection import train_test_split\n",
        "from torchvision import models\n",
        "from torchsummary import summary"
      ],
      "metadata": {
        "id": "zeiR01wUE6Z-"
      },
      "execution_count": 4,
      "outputs": []
    },
    {
      "cell_type": "code",
      "source": [
        "# @title Проверка подключения к среде выполнения\n",
        "device = \"cuda\" if torch.cuda.is_available() else \"cpu\"\n",
        "device"
      ],
      "metadata": {
        "colab": {
          "base_uri": "https://localhost:8080/",
          "height": 35
        },
        "id": "D_F5xaLoOmMu",
        "outputId": "6b80822b-ecf6-41e8-94ab-834c2eb541d4"
      },
      "execution_count": 5,
      "outputs": [
        {
          "output_type": "execute_result",
          "data": {
            "text/plain": [
              "'cpu'"
            ],
            "application/vnd.google.colaboratory.intrinsic+json": {
              "type": "string"
            }
          },
          "metadata": {},
          "execution_count": 5
        }
      ]
    },
    {
      "cell_type": "markdown",
      "source": [
        "### 1.1 Определение основных функций и классов"
      ],
      "metadata": {
        "id": "HcNHXKsfwaoh"
      }
    },
    {
      "cell_type": "code",
      "source": [
        "def makeDir(dir_name):\n",
        "    if os.path.exists(dir_name):\n",
        "        shutil.rmtree(dir_name)\n",
        "    os.makedirs(dir_name)\n",
        "\n",
        "\n",
        "class MyOwnHandDataset(torch.utils.data.Dataset):\n",
        "    def __init__(self, data, preprocessing=None):\n",
        "        self.data = data\n",
        "        self.preprocessing = preprocessing\n",
        "        self.images_paths = self.data.iloc[:, 0]\n",
        "        self.label = self.data.iloc[:, 1]\n",
        "        self.data_len = len(self.data.index)\n",
        "\n",
        "    def __len__(self):\n",
        "        return self.data_len\n",
        "\n",
        "    def __getitem__(self, idx):\n",
        "        img_path = self.images_paths[idx]\n",
        "        label = self.label[idx]\n",
        "        img = Image.open(img_path)\n",
        "\n",
        "        if self.preprocessing:\n",
        "            img = self.preprocessing(img)\n",
        "\n",
        "        return img, label\n",
        "\n",
        "def Model_fit(Model, X, y, model_epochs, model_optimizers, model_losses, logit_step, device):\n",
        "    Model.train()\n",
        "    start = time.time()\n",
        "    train_accuracy_all = []\n",
        "    train_loss_all = []\n",
        "\n",
        "\n",
        "    for epoch in range(model_epochs):\n",
        "        running_loss, running_items, running_right = 0.0, 0.0, 0.0\n",
        "        for batch_idx, (data, labels) in enumerate(train_dl):\n",
        "            data = data.to(device)\n",
        "            labels = labels.to(device)\n",
        "\n",
        "            # обнуляем градиент\n",
        "            model_optimizers.zero_grad()\n",
        "\n",
        "            outputs = Model(data)\n",
        "            loss = model_losses(outputs, labels)\n",
        "            loss.backward()\n",
        "            model_optimizers.step()\n",
        "\n",
        "            # выводим статистику о процессе обучения\n",
        "            running_loss += loss.item()\n",
        "            running_items += len(labels)\n",
        "            running_right += (labels == torch.max(outputs, 1)[1]).sum()\n",
        "\n",
        "            # выводим статистику о процессе обучения\n",
        "            if (batch_idx+1) % logit_step == 0:    # печатаем каждые 300 mini-batches\n",
        "                Model.eval()\n",
        "\n",
        "                print(\"\", end=f'\\rEpoch [{epoch + 1}/{model_epochs}]. ' \\\n",
        "                                f'Loss: {running_loss / running_items:.3f}. ' \\\n",
        "                                f'Acc: {running_right / running_items:.3f}. ')\n",
        "\n",
        "                train_accuracy_all.append(running_right / running_items)\n",
        "                train_loss_all.append(running_loss / running_items)\n",
        "\n",
        "                running_loss, running_items, running_right = 0.0, 0.0, 0.0\n",
        "\n",
        "                test_running_right, test_running_total = 0.0, 0.0\n",
        "                for i, data in enumerate(y):\n",
        "\n",
        "                    test_outputs = Model(data[0].to(device))\n",
        "                    test_running_total += len(data[1])\n",
        "                    test_running_right += (data[1].to(device) == torch.max(test_outputs, 1)[1]).sum()\n",
        "\n",
        "                print(\"\", end=f'Test acc: {test_running_right / test_running_total:.3f}')\n",
        "\n",
        "            Model.train()\n",
        "\n",
        "    stop = time.time()\n",
        "    print(f'\\nTraining is finished! It took {round((stop - start), 2)} seconds')\n",
        "    plt.plot(train_loss_all)\n",
        "    plt.show()\n",
        "    return train_accuracy_all, train_loss_all"
      ],
      "metadata": {
        "id": "Lm-jWdr1TXwy"
      },
      "execution_count": 6,
      "outputs": []
    },
    {
      "cell_type": "markdown",
      "source": [
        "## 2 Загрузка датасета"
      ],
      "metadata": {
        "id": "r8fwaTruTch4"
      }
    },
    {
      "cell_type": "code",
      "source": [
        "drive.mount(\"/content/drive/\")"
      ],
      "metadata": {
        "colab": {
          "base_uri": "https://localhost:8080/"
        },
        "id": "_b7lBBGNTfrj",
        "outputId": "db18e2f1-06f2-45b3-a622-5eead9abcfb3"
      },
      "execution_count": 7,
      "outputs": [
        {
          "output_type": "stream",
          "name": "stdout",
          "text": [
            "Mounted at /content/drive/\n"
          ]
        }
      ]
    },
    {
      "cell_type": "code",
      "source": [
        "home_dir = \"/content/drive/MyDrive/\""
      ],
      "metadata": {
        "id": "Gq5my9J2Tv9F"
      },
      "execution_count": 8,
      "outputs": []
    },
    {
      "cell_type": "code",
      "source": [
        "work_dir_hand = \"Hand/\""
      ],
      "metadata": {
        "id": "Oc3LAM83s8X5"
      },
      "execution_count": 9,
      "outputs": []
    },
    {
      "cell_type": "code",
      "source": [
        "# makeDir(home_dir + work_dir_hand)"
      ],
      "metadata": {
        "id": "POhWZyC0UDVu"
      },
      "execution_count": null,
      "outputs": []
    },
    {
      "cell_type": "code",
      "source": [
        "# !unzip \"/content/drive/MyDrive/arhive_hand.zip\" -d \"/content/drive/MyDrive/Hand/\""
      ],
      "metadata": {
        "id": "X9FQ7wGztONC"
      },
      "execution_count": null,
      "outputs": []
    },
    {
      "cell_type": "code",
      "source": [
        "# os.rename(home_dir + work_dir_hand + \"leapGestRecog\", home_dir + work_dir_hand + \"train\")\n",
        "# os.rename(home_dir + work_dir_hand + \"leapgestrecog\", home_dir + work_dir_hand + \"test\")\n",
        "# os.rename(home_dir + work_dir_hand + \"test/leapGestRecog\", home_dir + work_dir_hand + \"test/move_test\")\n",
        "# shutil.move(home_dir + work_dir_hand + \"test/move_test\", home_dir + work_dir_hand)\n",
        "# shutil.rmtree(home_dir + work_dir_hand + \"test\")\n",
        "# os.rename(home_dir + work_dir_hand + \"move_test\", home_dir + work_dir_hand + \"test\")"
      ],
      "metadata": {
        "id": "xvMxP65i3plg"
      },
      "execution_count": null,
      "outputs": []
    },
    {
      "cell_type": "code",
      "source": [
        "# work_folder = os.listdir(home_dir + work_dir_hand)\n",
        "# work_folder"
      ],
      "metadata": {
        "id": "O5u2UBLIVn6m"
      },
      "execution_count": null,
      "outputs": []
    },
    {
      "cell_type": "markdown",
      "source": [
        "## 3 Определение трансформаций"
      ],
      "metadata": {
        "id": "uNCFLi9Hj9kD"
      }
    },
    {
      "cell_type": "code",
      "source": [
        "train_transformations = tt.Compose([tt.Grayscale(num_output_channels=3),\n",
        "                                    tt.Resize([128,128]),\n",
        "                                    tt.RandomHorizontalFlip(),\n",
        "                                    tt.RandomRotation(30),\n",
        "                                    tt.ToTensor()])\n",
        "\n",
        "test_transformations = tt.Compose([tt.Grayscale(num_output_channels=3),\n",
        "                                   tt.Resize([128,128]),\n",
        "                                   tt.ToTensor()])"
      ],
      "metadata": {
        "id": "0JOmoODnyh5I"
      },
      "execution_count": 21,
      "outputs": []
    },
    {
      "cell_type": "markdown",
      "source": [
        "## 4 Создание рабочего датасета"
      ],
      "metadata": {
        "id": "B_DtXjW5kFSA"
      }
    },
    {
      "cell_type": "code",
      "source": [
        "# frame = \"train\"\n",
        "# main_dict = {}\n",
        "# full_img_path = []\n",
        "# label_list = []\n",
        "# for dir in os.listdir(home_dir + work_dir_hand + frame):\n",
        "#     for d in os.listdir(home_dir + work_dir_hand + frame + \"/\" + dir):\n",
        "#         for f in os.listdir(home_dir + work_dir_hand + frame + \"/\" + dir + \"/\" + d):\n",
        "#             full_img_path.append(home_dir + work_dir_hand + frame + \"/\" + dir + \"/\" + d + \"/\" + f)\n",
        "#             label_list.append(d)\n",
        "# main_dict['main_img'] = full_img_path\n",
        "# main_dict['label'] = label_list"
      ],
      "metadata": {
        "id": "qnIS8-pca-LQ"
      },
      "execution_count": null,
      "outputs": []
    },
    {
      "cell_type": "code",
      "source": [
        "# df = pd.DataFrame(main_dict)\n",
        "# df.head()"
      ],
      "metadata": {
        "id": "TVvNRwtpxeKi"
      },
      "execution_count": null,
      "outputs": []
    },
    {
      "cell_type": "code",
      "source": [
        "# df.count()"
      ],
      "metadata": {
        "id": "zK_9weriyY1R"
      },
      "execution_count": null,
      "outputs": []
    },
    {
      "cell_type": "code",
      "source": [
        "# print(df['main_img'][0], \"\\n\\n\", df['label'][0])"
      ],
      "metadata": {
        "id": "B35J9GAkyUzX"
      },
      "execution_count": null,
      "outputs": []
    },
    {
      "cell_type": "markdown",
      "source": [
        "### 4.1 Сохранение рабочего датасета"
      ],
      "metadata": {
        "id": "pJaUsCOpF-br"
      }
    },
    {
      "cell_type": "code",
      "source": [
        "# df.to_csv(home_dir + \"hand.csv\", sep=\",\")"
      ],
      "metadata": {
        "id": "DyEeEMCX0HtI"
      },
      "execution_count": null,
      "outputs": []
    },
    {
      "cell_type": "markdown",
      "source": [
        "### 4.2 Загрузка рабочего датасета"
      ],
      "metadata": {
        "id": "RurYLTMMGEdY"
      }
    },
    {
      "cell_type": "code",
      "source": [
        "df_new = pd.read_csv(home_dir + \"hand.csv\", sep=\",\")\n",
        "df_new.drop(['Unnamed: 0'], axis=1, inplace=True)\n",
        "df = df_new.copy()"
      ],
      "metadata": {
        "id": "gH6yIHwH1Bu3"
      },
      "execution_count": 10,
      "outputs": []
    },
    {
      "cell_type": "markdown",
      "source": [
        "### 4.3 Определение классов целевой переменной"
      ],
      "metadata": {
        "id": "PegaX0t2RXIJ"
      }
    },
    {
      "cell_type": "code",
      "source": [
        "target_feature = list(set(df[\"label\"]))\n",
        "target_feature.sort()\n",
        "target_feature"
      ],
      "metadata": {
        "colab": {
          "base_uri": "https://localhost:8080/"
        },
        "id": "WH8o9QNeIbf9",
        "outputId": "ac83363a-847c-422d-cd99-1fe50ebddaf9"
      },
      "execution_count": 11,
      "outputs": [
        {
          "output_type": "execute_result",
          "data": {
            "text/plain": [
              "['01_palm',\n",
              " '02_l',\n",
              " '03_fist',\n",
              " '04_fist_moved',\n",
              " '05_thumb',\n",
              " '06_index',\n",
              " '07_ok',\n",
              " '08_palm_moved',\n",
              " '09_c',\n",
              " '10_down']"
            ]
          },
          "metadata": {},
          "execution_count": 11
        }
      ]
    },
    {
      "cell_type": "code",
      "source": [
        "df.head()"
      ],
      "metadata": {
        "colab": {
          "base_uri": "https://localhost:8080/",
          "height": 206
        },
        "id": "dC6FoH9p5kY9",
        "outputId": "b7465a6e-2f6f-471e-aa61-2a906988536c"
      },
      "execution_count": 12,
      "outputs": [
        {
          "output_type": "execute_result",
          "data": {
            "text/plain": [
              "                                            main_img    label\n",
              "0  /content/drive/MyDrive/Hand/train/00/01_palm/f...  01_palm\n",
              "1  /content/drive/MyDrive/Hand/train/00/01_palm/f...  01_palm\n",
              "2  /content/drive/MyDrive/Hand/train/00/01_palm/f...  01_palm\n",
              "3  /content/drive/MyDrive/Hand/train/00/01_palm/f...  01_palm\n",
              "4  /content/drive/MyDrive/Hand/train/00/01_palm/f...  01_palm"
            ],
            "text/html": [
              "\n",
              "  <div id=\"df-3636c761-626f-4e1c-a835-5c0d022fbf2a\" class=\"colab-df-container\">\n",
              "    <div>\n",
              "<style scoped>\n",
              "    .dataframe tbody tr th:only-of-type {\n",
              "        vertical-align: middle;\n",
              "    }\n",
              "\n",
              "    .dataframe tbody tr th {\n",
              "        vertical-align: top;\n",
              "    }\n",
              "\n",
              "    .dataframe thead th {\n",
              "        text-align: right;\n",
              "    }\n",
              "</style>\n",
              "<table border=\"1\" class=\"dataframe\">\n",
              "  <thead>\n",
              "    <tr style=\"text-align: right;\">\n",
              "      <th></th>\n",
              "      <th>main_img</th>\n",
              "      <th>label</th>\n",
              "    </tr>\n",
              "  </thead>\n",
              "  <tbody>\n",
              "    <tr>\n",
              "      <th>0</th>\n",
              "      <td>/content/drive/MyDrive/Hand/train/00/01_palm/f...</td>\n",
              "      <td>01_palm</td>\n",
              "    </tr>\n",
              "    <tr>\n",
              "      <th>1</th>\n",
              "      <td>/content/drive/MyDrive/Hand/train/00/01_palm/f...</td>\n",
              "      <td>01_palm</td>\n",
              "    </tr>\n",
              "    <tr>\n",
              "      <th>2</th>\n",
              "      <td>/content/drive/MyDrive/Hand/train/00/01_palm/f...</td>\n",
              "      <td>01_palm</td>\n",
              "    </tr>\n",
              "    <tr>\n",
              "      <th>3</th>\n",
              "      <td>/content/drive/MyDrive/Hand/train/00/01_palm/f...</td>\n",
              "      <td>01_palm</td>\n",
              "    </tr>\n",
              "    <tr>\n",
              "      <th>4</th>\n",
              "      <td>/content/drive/MyDrive/Hand/train/00/01_palm/f...</td>\n",
              "      <td>01_palm</td>\n",
              "    </tr>\n",
              "  </tbody>\n",
              "</table>\n",
              "</div>\n",
              "    <div class=\"colab-df-buttons\">\n",
              "\n",
              "  <div class=\"colab-df-container\">\n",
              "    <button class=\"colab-df-convert\" onclick=\"convertToInteractive('df-3636c761-626f-4e1c-a835-5c0d022fbf2a')\"\n",
              "            title=\"Convert this dataframe to an interactive table.\"\n",
              "            style=\"display:none;\">\n",
              "\n",
              "  <svg xmlns=\"http://www.w3.org/2000/svg\" height=\"24px\" viewBox=\"0 -960 960 960\">\n",
              "    <path d=\"M120-120v-720h720v720H120Zm60-500h600v-160H180v160Zm220 220h160v-160H400v160Zm0 220h160v-160H400v160ZM180-400h160v-160H180v160Zm440 0h160v-160H620v160ZM180-180h160v-160H180v160Zm440 0h160v-160H620v160Z\"/>\n",
              "  </svg>\n",
              "    </button>\n",
              "\n",
              "  <style>\n",
              "    .colab-df-container {\n",
              "      display:flex;\n",
              "      gap: 12px;\n",
              "    }\n",
              "\n",
              "    .colab-df-convert {\n",
              "      background-color: #E8F0FE;\n",
              "      border: none;\n",
              "      border-radius: 50%;\n",
              "      cursor: pointer;\n",
              "      display: none;\n",
              "      fill: #1967D2;\n",
              "      height: 32px;\n",
              "      padding: 0 0 0 0;\n",
              "      width: 32px;\n",
              "    }\n",
              "\n",
              "    .colab-df-convert:hover {\n",
              "      background-color: #E2EBFA;\n",
              "      box-shadow: 0px 1px 2px rgba(60, 64, 67, 0.3), 0px 1px 3px 1px rgba(60, 64, 67, 0.15);\n",
              "      fill: #174EA6;\n",
              "    }\n",
              "\n",
              "    .colab-df-buttons div {\n",
              "      margin-bottom: 4px;\n",
              "    }\n",
              "\n",
              "    [theme=dark] .colab-df-convert {\n",
              "      background-color: #3B4455;\n",
              "      fill: #D2E3FC;\n",
              "    }\n",
              "\n",
              "    [theme=dark] .colab-df-convert:hover {\n",
              "      background-color: #434B5C;\n",
              "      box-shadow: 0px 1px 3px 1px rgba(0, 0, 0, 0.15);\n",
              "      filter: drop-shadow(0px 1px 2px rgba(0, 0, 0, 0.3));\n",
              "      fill: #FFFFFF;\n",
              "    }\n",
              "  </style>\n",
              "\n",
              "    <script>\n",
              "      const buttonEl =\n",
              "        document.querySelector('#df-3636c761-626f-4e1c-a835-5c0d022fbf2a button.colab-df-convert');\n",
              "      buttonEl.style.display =\n",
              "        google.colab.kernel.accessAllowed ? 'block' : 'none';\n",
              "\n",
              "      async function convertToInteractive(key) {\n",
              "        const element = document.querySelector('#df-3636c761-626f-4e1c-a835-5c0d022fbf2a');\n",
              "        const dataTable =\n",
              "          await google.colab.kernel.invokeFunction('convertToInteractive',\n",
              "                                                    [key], {});\n",
              "        if (!dataTable) return;\n",
              "\n",
              "        const docLinkHtml = 'Like what you see? Visit the ' +\n",
              "          '<a target=\"_blank\" href=https://colab.research.google.com/notebooks/data_table.ipynb>data table notebook</a>'\n",
              "          + ' to learn more about interactive tables.';\n",
              "        element.innerHTML = '';\n",
              "        dataTable['output_type'] = 'display_data';\n",
              "        await google.colab.output.renderOutput(dataTable, element);\n",
              "        const docLink = document.createElement('div');\n",
              "        docLink.innerHTML = docLinkHtml;\n",
              "        element.appendChild(docLink);\n",
              "      }\n",
              "    </script>\n",
              "  </div>\n",
              "\n",
              "\n",
              "<div id=\"df-f4d519d7-ba67-48a3-9c50-9272716ee539\">\n",
              "  <button class=\"colab-df-quickchart\" onclick=\"quickchart('df-f4d519d7-ba67-48a3-9c50-9272716ee539')\"\n",
              "            title=\"Suggest charts\"\n",
              "            style=\"display:none;\">\n",
              "\n",
              "<svg xmlns=\"http://www.w3.org/2000/svg\" height=\"24px\"viewBox=\"0 0 24 24\"\n",
              "     width=\"24px\">\n",
              "    <g>\n",
              "        <path d=\"M19 3H5c-1.1 0-2 .9-2 2v14c0 1.1.9 2 2 2h14c1.1 0 2-.9 2-2V5c0-1.1-.9-2-2-2zM9 17H7v-7h2v7zm4 0h-2V7h2v10zm4 0h-2v-4h2v4z\"/>\n",
              "    </g>\n",
              "</svg>\n",
              "  </button>\n",
              "\n",
              "<style>\n",
              "  .colab-df-quickchart {\n",
              "      --bg-color: #E8F0FE;\n",
              "      --fill-color: #1967D2;\n",
              "      --hover-bg-color: #E2EBFA;\n",
              "      --hover-fill-color: #174EA6;\n",
              "      --disabled-fill-color: #AAA;\n",
              "      --disabled-bg-color: #DDD;\n",
              "  }\n",
              "\n",
              "  [theme=dark] .colab-df-quickchart {\n",
              "      --bg-color: #3B4455;\n",
              "      --fill-color: #D2E3FC;\n",
              "      --hover-bg-color: #434B5C;\n",
              "      --hover-fill-color: #FFFFFF;\n",
              "      --disabled-bg-color: #3B4455;\n",
              "      --disabled-fill-color: #666;\n",
              "  }\n",
              "\n",
              "  .colab-df-quickchart {\n",
              "    background-color: var(--bg-color);\n",
              "    border: none;\n",
              "    border-radius: 50%;\n",
              "    cursor: pointer;\n",
              "    display: none;\n",
              "    fill: var(--fill-color);\n",
              "    height: 32px;\n",
              "    padding: 0;\n",
              "    width: 32px;\n",
              "  }\n",
              "\n",
              "  .colab-df-quickchart:hover {\n",
              "    background-color: var(--hover-bg-color);\n",
              "    box-shadow: 0 1px 2px rgba(60, 64, 67, 0.3), 0 1px 3px 1px rgba(60, 64, 67, 0.15);\n",
              "    fill: var(--button-hover-fill-color);\n",
              "  }\n",
              "\n",
              "  .colab-df-quickchart-complete:disabled,\n",
              "  .colab-df-quickchart-complete:disabled:hover {\n",
              "    background-color: var(--disabled-bg-color);\n",
              "    fill: var(--disabled-fill-color);\n",
              "    box-shadow: none;\n",
              "  }\n",
              "\n",
              "  .colab-df-spinner {\n",
              "    border: 2px solid var(--fill-color);\n",
              "    border-color: transparent;\n",
              "    border-bottom-color: var(--fill-color);\n",
              "    animation:\n",
              "      spin 1s steps(1) infinite;\n",
              "  }\n",
              "\n",
              "  @keyframes spin {\n",
              "    0% {\n",
              "      border-color: transparent;\n",
              "      border-bottom-color: var(--fill-color);\n",
              "      border-left-color: var(--fill-color);\n",
              "    }\n",
              "    20% {\n",
              "      border-color: transparent;\n",
              "      border-left-color: var(--fill-color);\n",
              "      border-top-color: var(--fill-color);\n",
              "    }\n",
              "    30% {\n",
              "      border-color: transparent;\n",
              "      border-left-color: var(--fill-color);\n",
              "      border-top-color: var(--fill-color);\n",
              "      border-right-color: var(--fill-color);\n",
              "    }\n",
              "    40% {\n",
              "      border-color: transparent;\n",
              "      border-right-color: var(--fill-color);\n",
              "      border-top-color: var(--fill-color);\n",
              "    }\n",
              "    60% {\n",
              "      border-color: transparent;\n",
              "      border-right-color: var(--fill-color);\n",
              "    }\n",
              "    80% {\n",
              "      border-color: transparent;\n",
              "      border-right-color: var(--fill-color);\n",
              "      border-bottom-color: var(--fill-color);\n",
              "    }\n",
              "    90% {\n",
              "      border-color: transparent;\n",
              "      border-bottom-color: var(--fill-color);\n",
              "    }\n",
              "  }\n",
              "</style>\n",
              "\n",
              "  <script>\n",
              "    async function quickchart(key) {\n",
              "      const quickchartButtonEl =\n",
              "        document.querySelector('#' + key + ' button');\n",
              "      quickchartButtonEl.disabled = true;  // To prevent multiple clicks.\n",
              "      quickchartButtonEl.classList.add('colab-df-spinner');\n",
              "      try {\n",
              "        const charts = await google.colab.kernel.invokeFunction(\n",
              "            'suggestCharts', [key], {});\n",
              "      } catch (error) {\n",
              "        console.error('Error during call to suggestCharts:', error);\n",
              "      }\n",
              "      quickchartButtonEl.classList.remove('colab-df-spinner');\n",
              "      quickchartButtonEl.classList.add('colab-df-quickchart-complete');\n",
              "    }\n",
              "    (() => {\n",
              "      let quickchartButtonEl =\n",
              "        document.querySelector('#df-f4d519d7-ba67-48a3-9c50-9272716ee539 button');\n",
              "      quickchartButtonEl.style.display =\n",
              "        google.colab.kernel.accessAllowed ? 'block' : 'none';\n",
              "    })();\n",
              "  </script>\n",
              "</div>\n",
              "    </div>\n",
              "  </div>\n"
            ]
          },
          "metadata": {},
          "execution_count": 12
        }
      ]
    },
    {
      "cell_type": "markdown",
      "source": [
        "### 4.4 Категоризация целевой переменной\n"
      ],
      "metadata": {
        "id": "ydD6pu76Rnsz"
      }
    },
    {
      "cell_type": "code",
      "source": [
        "for i in range(len(target_feature)):\n",
        "    # print(i+1, target_feature[i])\n",
        "    df.loc[df['label'] == target_feature[i], \"label\"] = i"
      ],
      "metadata": {
        "id": "YEUUCI667Bq9"
      },
      "execution_count": 13,
      "outputs": []
    },
    {
      "cell_type": "code",
      "source": [
        "df.head()"
      ],
      "metadata": {
        "colab": {
          "base_uri": "https://localhost:8080/",
          "height": 206
        },
        "id": "Vkdeu0K27Bd-",
        "outputId": "a35cdb81-82d3-44ca-d9e1-96adb5a95ba8"
      },
      "execution_count": 14,
      "outputs": [
        {
          "output_type": "execute_result",
          "data": {
            "text/plain": [
              "                                            main_img label\n",
              "0  /content/drive/MyDrive/Hand/train/00/01_palm/f...     0\n",
              "1  /content/drive/MyDrive/Hand/train/00/01_palm/f...     0\n",
              "2  /content/drive/MyDrive/Hand/train/00/01_palm/f...     0\n",
              "3  /content/drive/MyDrive/Hand/train/00/01_palm/f...     0\n",
              "4  /content/drive/MyDrive/Hand/train/00/01_palm/f...     0"
            ],
            "text/html": [
              "\n",
              "  <div id=\"df-c714eaa7-e424-4c3a-9937-7c0bf56e89f8\" class=\"colab-df-container\">\n",
              "    <div>\n",
              "<style scoped>\n",
              "    .dataframe tbody tr th:only-of-type {\n",
              "        vertical-align: middle;\n",
              "    }\n",
              "\n",
              "    .dataframe tbody tr th {\n",
              "        vertical-align: top;\n",
              "    }\n",
              "\n",
              "    .dataframe thead th {\n",
              "        text-align: right;\n",
              "    }\n",
              "</style>\n",
              "<table border=\"1\" class=\"dataframe\">\n",
              "  <thead>\n",
              "    <tr style=\"text-align: right;\">\n",
              "      <th></th>\n",
              "      <th>main_img</th>\n",
              "      <th>label</th>\n",
              "    </tr>\n",
              "  </thead>\n",
              "  <tbody>\n",
              "    <tr>\n",
              "      <th>0</th>\n",
              "      <td>/content/drive/MyDrive/Hand/train/00/01_palm/f...</td>\n",
              "      <td>0</td>\n",
              "    </tr>\n",
              "    <tr>\n",
              "      <th>1</th>\n",
              "      <td>/content/drive/MyDrive/Hand/train/00/01_palm/f...</td>\n",
              "      <td>0</td>\n",
              "    </tr>\n",
              "    <tr>\n",
              "      <th>2</th>\n",
              "      <td>/content/drive/MyDrive/Hand/train/00/01_palm/f...</td>\n",
              "      <td>0</td>\n",
              "    </tr>\n",
              "    <tr>\n",
              "      <th>3</th>\n",
              "      <td>/content/drive/MyDrive/Hand/train/00/01_palm/f...</td>\n",
              "      <td>0</td>\n",
              "    </tr>\n",
              "    <tr>\n",
              "      <th>4</th>\n",
              "      <td>/content/drive/MyDrive/Hand/train/00/01_palm/f...</td>\n",
              "      <td>0</td>\n",
              "    </tr>\n",
              "  </tbody>\n",
              "</table>\n",
              "</div>\n",
              "    <div class=\"colab-df-buttons\">\n",
              "\n",
              "  <div class=\"colab-df-container\">\n",
              "    <button class=\"colab-df-convert\" onclick=\"convertToInteractive('df-c714eaa7-e424-4c3a-9937-7c0bf56e89f8')\"\n",
              "            title=\"Convert this dataframe to an interactive table.\"\n",
              "            style=\"display:none;\">\n",
              "\n",
              "  <svg xmlns=\"http://www.w3.org/2000/svg\" height=\"24px\" viewBox=\"0 -960 960 960\">\n",
              "    <path d=\"M120-120v-720h720v720H120Zm60-500h600v-160H180v160Zm220 220h160v-160H400v160Zm0 220h160v-160H400v160ZM180-400h160v-160H180v160Zm440 0h160v-160H620v160ZM180-180h160v-160H180v160Zm440 0h160v-160H620v160Z\"/>\n",
              "  </svg>\n",
              "    </button>\n",
              "\n",
              "  <style>\n",
              "    .colab-df-container {\n",
              "      display:flex;\n",
              "      gap: 12px;\n",
              "    }\n",
              "\n",
              "    .colab-df-convert {\n",
              "      background-color: #E8F0FE;\n",
              "      border: none;\n",
              "      border-radius: 50%;\n",
              "      cursor: pointer;\n",
              "      display: none;\n",
              "      fill: #1967D2;\n",
              "      height: 32px;\n",
              "      padding: 0 0 0 0;\n",
              "      width: 32px;\n",
              "    }\n",
              "\n",
              "    .colab-df-convert:hover {\n",
              "      background-color: #E2EBFA;\n",
              "      box-shadow: 0px 1px 2px rgba(60, 64, 67, 0.3), 0px 1px 3px 1px rgba(60, 64, 67, 0.15);\n",
              "      fill: #174EA6;\n",
              "    }\n",
              "\n",
              "    .colab-df-buttons div {\n",
              "      margin-bottom: 4px;\n",
              "    }\n",
              "\n",
              "    [theme=dark] .colab-df-convert {\n",
              "      background-color: #3B4455;\n",
              "      fill: #D2E3FC;\n",
              "    }\n",
              "\n",
              "    [theme=dark] .colab-df-convert:hover {\n",
              "      background-color: #434B5C;\n",
              "      box-shadow: 0px 1px 3px 1px rgba(0, 0, 0, 0.15);\n",
              "      filter: drop-shadow(0px 1px 2px rgba(0, 0, 0, 0.3));\n",
              "      fill: #FFFFFF;\n",
              "    }\n",
              "  </style>\n",
              "\n",
              "    <script>\n",
              "      const buttonEl =\n",
              "        document.querySelector('#df-c714eaa7-e424-4c3a-9937-7c0bf56e89f8 button.colab-df-convert');\n",
              "      buttonEl.style.display =\n",
              "        google.colab.kernel.accessAllowed ? 'block' : 'none';\n",
              "\n",
              "      async function convertToInteractive(key) {\n",
              "        const element = document.querySelector('#df-c714eaa7-e424-4c3a-9937-7c0bf56e89f8');\n",
              "        const dataTable =\n",
              "          await google.colab.kernel.invokeFunction('convertToInteractive',\n",
              "                                                    [key], {});\n",
              "        if (!dataTable) return;\n",
              "\n",
              "        const docLinkHtml = 'Like what you see? Visit the ' +\n",
              "          '<a target=\"_blank\" href=https://colab.research.google.com/notebooks/data_table.ipynb>data table notebook</a>'\n",
              "          + ' to learn more about interactive tables.';\n",
              "        element.innerHTML = '';\n",
              "        dataTable['output_type'] = 'display_data';\n",
              "        await google.colab.output.renderOutput(dataTable, element);\n",
              "        const docLink = document.createElement('div');\n",
              "        docLink.innerHTML = docLinkHtml;\n",
              "        element.appendChild(docLink);\n",
              "      }\n",
              "    </script>\n",
              "  </div>\n",
              "\n",
              "\n",
              "<div id=\"df-a6598e89-57fe-4b50-9dfc-05a61f4c03a1\">\n",
              "  <button class=\"colab-df-quickchart\" onclick=\"quickchart('df-a6598e89-57fe-4b50-9dfc-05a61f4c03a1')\"\n",
              "            title=\"Suggest charts\"\n",
              "            style=\"display:none;\">\n",
              "\n",
              "<svg xmlns=\"http://www.w3.org/2000/svg\" height=\"24px\"viewBox=\"0 0 24 24\"\n",
              "     width=\"24px\">\n",
              "    <g>\n",
              "        <path d=\"M19 3H5c-1.1 0-2 .9-2 2v14c0 1.1.9 2 2 2h14c1.1 0 2-.9 2-2V5c0-1.1-.9-2-2-2zM9 17H7v-7h2v7zm4 0h-2V7h2v10zm4 0h-2v-4h2v4z\"/>\n",
              "    </g>\n",
              "</svg>\n",
              "  </button>\n",
              "\n",
              "<style>\n",
              "  .colab-df-quickchart {\n",
              "      --bg-color: #E8F0FE;\n",
              "      --fill-color: #1967D2;\n",
              "      --hover-bg-color: #E2EBFA;\n",
              "      --hover-fill-color: #174EA6;\n",
              "      --disabled-fill-color: #AAA;\n",
              "      --disabled-bg-color: #DDD;\n",
              "  }\n",
              "\n",
              "  [theme=dark] .colab-df-quickchart {\n",
              "      --bg-color: #3B4455;\n",
              "      --fill-color: #D2E3FC;\n",
              "      --hover-bg-color: #434B5C;\n",
              "      --hover-fill-color: #FFFFFF;\n",
              "      --disabled-bg-color: #3B4455;\n",
              "      --disabled-fill-color: #666;\n",
              "  }\n",
              "\n",
              "  .colab-df-quickchart {\n",
              "    background-color: var(--bg-color);\n",
              "    border: none;\n",
              "    border-radius: 50%;\n",
              "    cursor: pointer;\n",
              "    display: none;\n",
              "    fill: var(--fill-color);\n",
              "    height: 32px;\n",
              "    padding: 0;\n",
              "    width: 32px;\n",
              "  }\n",
              "\n",
              "  .colab-df-quickchart:hover {\n",
              "    background-color: var(--hover-bg-color);\n",
              "    box-shadow: 0 1px 2px rgba(60, 64, 67, 0.3), 0 1px 3px 1px rgba(60, 64, 67, 0.15);\n",
              "    fill: var(--button-hover-fill-color);\n",
              "  }\n",
              "\n",
              "  .colab-df-quickchart-complete:disabled,\n",
              "  .colab-df-quickchart-complete:disabled:hover {\n",
              "    background-color: var(--disabled-bg-color);\n",
              "    fill: var(--disabled-fill-color);\n",
              "    box-shadow: none;\n",
              "  }\n",
              "\n",
              "  .colab-df-spinner {\n",
              "    border: 2px solid var(--fill-color);\n",
              "    border-color: transparent;\n",
              "    border-bottom-color: var(--fill-color);\n",
              "    animation:\n",
              "      spin 1s steps(1) infinite;\n",
              "  }\n",
              "\n",
              "  @keyframes spin {\n",
              "    0% {\n",
              "      border-color: transparent;\n",
              "      border-bottom-color: var(--fill-color);\n",
              "      border-left-color: var(--fill-color);\n",
              "    }\n",
              "    20% {\n",
              "      border-color: transparent;\n",
              "      border-left-color: var(--fill-color);\n",
              "      border-top-color: var(--fill-color);\n",
              "    }\n",
              "    30% {\n",
              "      border-color: transparent;\n",
              "      border-left-color: var(--fill-color);\n",
              "      border-top-color: var(--fill-color);\n",
              "      border-right-color: var(--fill-color);\n",
              "    }\n",
              "    40% {\n",
              "      border-color: transparent;\n",
              "      border-right-color: var(--fill-color);\n",
              "      border-top-color: var(--fill-color);\n",
              "    }\n",
              "    60% {\n",
              "      border-color: transparent;\n",
              "      border-right-color: var(--fill-color);\n",
              "    }\n",
              "    80% {\n",
              "      border-color: transparent;\n",
              "      border-right-color: var(--fill-color);\n",
              "      border-bottom-color: var(--fill-color);\n",
              "    }\n",
              "    90% {\n",
              "      border-color: transparent;\n",
              "      border-bottom-color: var(--fill-color);\n",
              "    }\n",
              "  }\n",
              "</style>\n",
              "\n",
              "  <script>\n",
              "    async function quickchart(key) {\n",
              "      const quickchartButtonEl =\n",
              "        document.querySelector('#' + key + ' button');\n",
              "      quickchartButtonEl.disabled = true;  // To prevent multiple clicks.\n",
              "      quickchartButtonEl.classList.add('colab-df-spinner');\n",
              "      try {\n",
              "        const charts = await google.colab.kernel.invokeFunction(\n",
              "            'suggestCharts', [key], {});\n",
              "      } catch (error) {\n",
              "        console.error('Error during call to suggestCharts:', error);\n",
              "      }\n",
              "      quickchartButtonEl.classList.remove('colab-df-spinner');\n",
              "      quickchartButtonEl.classList.add('colab-df-quickchart-complete');\n",
              "    }\n",
              "    (() => {\n",
              "      let quickchartButtonEl =\n",
              "        document.querySelector('#df-a6598e89-57fe-4b50-9dfc-05a61f4c03a1 button');\n",
              "      quickchartButtonEl.style.display =\n",
              "        google.colab.kernel.accessAllowed ? 'block' : 'none';\n",
              "    })();\n",
              "  </script>\n",
              "</div>\n",
              "    </div>\n",
              "  </div>\n"
            ]
          },
          "metadata": {},
          "execution_count": 14
        }
      ]
    },
    {
      "cell_type": "code",
      "source": [
        "num_img = 8546\n",
        "imgplot = plt.imread(df['main_img'][num_img])\n",
        "plt.title((imgplot.shape, df['label'][num_img], df_new['label'][num_img]))\n",
        "plt.imshow(imgplot, cmap=\"gray\")"
      ],
      "metadata": {
        "colab": {
          "base_uri": "https://localhost:8080/",
          "height": 287
        },
        "id": "euvU1w2kkkLy",
        "outputId": "10e05aa6-ed8e-4b14-8f8c-204abc98304c"
      },
      "execution_count": 15,
      "outputs": [
        {
          "output_type": "execute_result",
          "data": {
            "text/plain": [
              "<matplotlib.image.AxesImage at 0x7bd8ed769870>"
            ]
          },
          "metadata": {},
          "execution_count": 15
        },
        {
          "output_type": "display_data",
          "data": {
            "text/plain": [
              "<Figure size 640x480 with 1 Axes>"
            ],
            "image/png": "[encoded data removed]"
          },
          "metadata": {}
        }
      ]
    },
    {
      "cell_type": "markdown",
      "source": [
        "### 4.5 Разделение на тренировочный и тестовый датасеты"
      ],
      "metadata": {
        "id": "nDw1vVx67W3Z"
      }
    },
    {
      "cell_type": "code",
      "source": [
        "df_train, df_test = train_test_split(df, test_size=0.25)"
      ],
      "metadata": {
        "id": "cAkyhmIz3jTL"
      },
      "execution_count": 16,
      "outputs": []
    },
    {
      "cell_type": "code",
      "source": [
        "df_train.count()"
      ],
      "metadata": {
        "colab": {
          "base_uri": "https://localhost:8080/"
        },
        "id": "rkPNccsZ5mPm",
        "outputId": "21a35c72-28cd-415a-8d72-841fdef8a802"
      },
      "execution_count": 17,
      "outputs": [
        {
          "output_type": "execute_result",
          "data": {
            "text/plain": [
              "main_img    15000\n",
              "label       15000\n",
              "dtype: int64"
            ]
          },
          "metadata": {},
          "execution_count": 17
        }
      ]
    },
    {
      "cell_type": "code",
      "source": [
        "df_test.count()"
      ],
      "metadata": {
        "colab": {
          "base_uri": "https://localhost:8080/"
        },
        "id": "7LRp6ydq5sr7",
        "outputId": "cbbe22b6-5649-487e-df08-3e39bc10471d"
      },
      "execution_count": 18,
      "outputs": [
        {
          "output_type": "execute_result",
          "data": {
            "text/plain": [
              "main_img    5000\n",
              "label       5000\n",
              "dtype: int64"
            ]
          },
          "metadata": {},
          "execution_count": 18
        }
      ]
    },
    {
      "cell_type": "code",
      "source": [
        "df_train.reset_index(drop=True, inplace=True)\n",
        "df_test.reset_index(drop=True, inplace=True)"
      ],
      "metadata": {
        "id": "Esv-Pgsl_3E_"
      },
      "execution_count": 19,
      "outputs": []
    },
    {
      "cell_type": "markdown",
      "source": [
        "## 5 Запись в Dataset"
      ],
      "metadata": {
        "id": "LdACtjGzkQOC"
      }
    },
    {
      "cell_type": "code",
      "source": [
        "train_ds = MyOwnHandDataset(df_train, train_transformations)\n",
        "test_ds = MyOwnHandDataset(df_test, test_transformations)"
      ],
      "metadata": {
        "id": "Dggo-rjw4Vmq"
      },
      "execution_count": 22,
      "outputs": []
    },
    {
      "cell_type": "markdown",
      "source": [
        "## 6 Запись в DataLoader"
      ],
      "metadata": {
        "id": "oz6yRDHokWW4"
      }
    },
    {
      "cell_type": "code",
      "source": [
        "batch_size = 64"
      ],
      "metadata": {
        "id": "DsXz6K2ldo2f"
      },
      "execution_count": 23,
      "outputs": []
    },
    {
      "cell_type": "code",
      "source": [
        "train_dl = DataLoader(train_ds, batch_size, shuffle=True, num_workers=2)\n",
        "test_dl = DataLoader(test_ds, batch_size, shuffle=False, num_workers=1)"
      ],
      "metadata": {
        "id": "8BPl4_R_dkFN"
      },
      "execution_count": 24,
      "outputs": []
    },
    {
      "cell_type": "markdown",
      "source": [
        "## 7 Загрузка модели Resnet-50"
      ],
      "metadata": {
        "id": "IufvE49nGlZ_"
      }
    },
    {
      "cell_type": "code",
      "source": [
        "resnet_50 = models.resnet50(pretrained=True)\n",
        "# summary(resnet_50.to(device), input_size=(3, 128, 128))"
      ],
      "metadata": {
        "id": "W0RG1eAXgMfs",
        "colab": {
          "base_uri": "https://localhost:8080/"
        },
        "outputId": "99b09417-7889-4c31-a449-cdb81e644c7f"
      },
      "execution_count": null,
      "outputs": [
        {
          "output_type": "stream",
          "name": "stderr",
          "text": [
            "/usr/local/lib/python3.10/dist-packages/torchvision/models/_utils.py:208: UserWarning: The parameter 'pretrained' is deprecated since 0.13 and may be removed in the future, please use 'weights' instead.\n",
            "  warnings.warn(\n",
            "/usr/local/lib/python3.10/dist-packages/torchvision/models/_utils.py:223: UserWarning: Arguments other than a weight enum or `None` for 'weights' are deprecated since 0.13 and may be removed in the future. The current behavior is equivalent to passing `weights=ResNet50_Weights.IMAGENET1K_V1`. You can also use `weights=ResNet50_Weights.DEFAULT` to get the most up-to-date weights.\n",
            "  warnings.warn(msg)\n"
          ]
        }
      ]
    },
    {
      "cell_type": "markdown",
      "source": [
        "## 8 Блокировка весов на обученой модели"
      ],
      "metadata": {
        "id": "imvy6HPIG5bB"
      }
    },
    {
      "cell_type": "code",
      "source": [
        "for param in list(resnet_50.parameters())[:]:\n",
        "    param.requires_grad = False"
      ],
      "metadata": {
        "id": "cvHUytkLGaqM"
      },
      "execution_count": null,
      "outputs": []
    },
    {
      "cell_type": "markdown",
      "source": [
        "## 9 Перезапись последнего слоя модели"
      ],
      "metadata": {
        "id": "f3BR_O7yHYlM"
      }
    },
    {
      "cell_type": "code",
      "source": [
        "num_features = resnet_50.fc.in_features\n",
        "num_features"
      ],
      "metadata": {
        "colab": {
          "base_uri": "https://localhost:8080/"
        },
        "id": "zDItdpe_HrBI",
        "outputId": "f939fa2c-8079-4855-ae1e-2de2f200bec7"
      },
      "execution_count": null,
      "outputs": [
        {
          "output_type": "execute_result",
          "data": {
            "text/plain": [
              "2048"
            ]
          },
          "metadata": {},
          "execution_count": 94
        }
      ]
    },
    {
      "cell_type": "code",
      "source": [
        "out_feature = len(target_feature)\n",
        "out_feature"
      ],
      "metadata": {
        "colab": {
          "base_uri": "https://localhost:8080/"
        },
        "id": "91nkAL_OI211",
        "outputId": "f7b26de7-9391-4f26-e2a5-9f75e6a08a04"
      },
      "execution_count": null,
      "outputs": [
        {
          "output_type": "execute_result",
          "data": {
            "text/plain": [
              "10"
            ]
          },
          "metadata": {},
          "execution_count": 95
        }
      ]
    },
    {
      "cell_type": "code",
      "source": [
        "resnet_50.fc = nn.Linear(num_features, out_feature)"
      ],
      "metadata": {
        "id": "0oa5GpFkH0X8"
      },
      "execution_count": null,
      "outputs": []
    },
    {
      "cell_type": "code",
      "source": [
        "# summary(resnet_50.to(device), input_size=(3, 128, 128))"
      ],
      "metadata": {
        "id": "JIRG8a0vJMPl"
      },
      "execution_count": null,
      "outputs": []
    },
    {
      "cell_type": "markdown",
      "source": [
        "## 10 Определение оптимизатора и функции потерь"
      ],
      "metadata": {
        "id": "sofhjNiUJm9e"
      }
    },
    {
      "cell_type": "markdown",
      "source": [
        "### 10.1 Определение весов для оптимизатора"
      ],
      "metadata": {
        "id": "hHpUYSgWJyol"
      }
    },
    {
      "cell_type": "code",
      "source": [
        "weights_for_optimizer = []\n",
        "for _, param in resnet_50.named_parameters():\n",
        "    if param.requires_grad == True:\n",
        "        weights_for_optimizer.append(param)"
      ],
      "metadata": {
        "id": "dBmyATsSJ2ye"
      },
      "execution_count": null,
      "outputs": []
    },
    {
      "cell_type": "code",
      "source": [
        "optimizer_50 = torch.optim.Adam(weights_for_optimizer, lr=0.001)\n",
        "criterion_50 = nn.CrossEntropyLoss().to(device)"
      ],
      "metadata": {
        "id": "StPa3ajlJ6vp"
      },
      "execution_count": null,
      "outputs": []
    },
    {
      "cell_type": "markdown",
      "source": [
        "## 11 Дообучение модели"
      ],
      "metadata": {
        "id": "hubzXe-yJ7L4"
      }
    },
    {
      "cell_type": "code",
      "source": [
        "acc, loss = Model_fit(resnet_50, train_dl, test_dl, 10, optimizer_50, criterion_50, 150, device)"
      ],
      "metadata": {
        "colab": {
          "base_uri": "https://localhost:8080/",
          "height": 466
        },
        "id": "W3jDpC4uKGLA",
        "outputId": "3630ac2f-7bfe-49a7-97fc-6a504e56afd1"
      },
      "execution_count": null,
      "outputs": [
        {
          "output_type": "stream",
          "name": "stdout",
          "text": [
            "Epoch [10/10]. Loss: 0.003. Acc: 0.935. Test acc: 0.911\n",
            "Training is finished! It took 19992.65 seconds\n"
          ]
        },
        {
          "output_type": "display_data",
          "data": {
            "text/plain": [
              "<Figure size 640x480 with 1 Axes>"
            ],
            "image/png": "[encoded data removed]"
          },
          "metadata": {}
        }
      ]
    },
    {
      "cell_type": "code",
      "source": [
        "plt.plot(acc)"
      ],
      "metadata": {
        "colab": {
          "base_uri": "https://localhost:8080/",
          "height": 448
        },
        "id": "1tAOQXPStGcZ",
        "outputId": "7350b306-d1d2-4a12-bb69-771e2e6c5ed4"
      },
      "execution_count": null,
      "outputs": [
        {
          "output_type": "execute_result",
          "data": {
            "text/plain": [
              "[<matplotlib.lines.Line2D at 0x792c8729b220>]"
            ]
          },
          "metadata": {},
          "execution_count": 103
        },
        {
          "output_type": "display_data",
          "data": {
            "text/plain": [
              "<Figure size 640x480 with 1 Axes>"
            ],
            "image/png": "[encoded data removed]"
          },
          "metadata": {}
        }
      ]
    },
    {
      "cell_type": "markdown",
      "source": [
        "## 13 Сохранение и загрузка модели"
      ],
      "metadata": {
        "id": "uUz7d-GTCc5D"
      }
    },
    {
      "cell_type": "code",
      "source": [
        "PATH_DIR = '/content/drive/MyDrive/My_model_PT/'\n",
        "PATH_MODEL = '/content/drive/MyDrive/My_model_PT/my_model_hand.pth'"
      ],
      "metadata": {
        "id": "LBsWQzOoBefU"
      },
      "execution_count": 2,
      "outputs": []
    },
    {
      "cell_type": "code",
      "source": [
        "# if os.path.exists(PATH_DIR):\n",
        "#     shutil.rmtree(PATH_DIR)\n",
        "# os.makedirs(PATH_DIR)"
      ],
      "metadata": {
        "id": "qxsS-BHeCEmH"
      },
      "execution_count": null,
      "outputs": []
    },
    {
      "cell_type": "code",
      "source": [
        "# torch.save(resnet_50, PATH_MODEL)"
      ],
      "metadata": {
        "id": "SNpIkjk3CH9b"
      },
      "execution_count": null,
      "outputs": []
    },
    {
      "cell_type": "code",
      "source": [
        "my_model = torch.load(PATH_MODEL)"
      ],
      "metadata": {
        "id": "aZ0NjpZECJ6x"
      },
      "execution_count": 25,
      "outputs": []
    },
    {
      "cell_type": "markdown",
      "source": [
        "## 14 Проверка модели на тестовых данных"
      ],
      "metadata": {
        "id": "LQsUJB5bSeCl"
      }
    },
    {
      "cell_type": "code",
      "source": [
        "with torch.no_grad():\n",
        "    positive = 0\n",
        "    negative = 0\n",
        "    for i, data in enumerate(test_dl, 3):\n",
        "        images, labels = data[0].to(device), data[1].to(device)\n",
        "\n",
        "        outputs = my_model(images)\n",
        "        print(f'pred - {target_feature[outputs[0].argmax()]}, gt - {target_feature[labels[0]]} {target_feature[outputs[0].argmax()] == target_feature[labels[0]]}')\n",
        "        if target_feature[outputs[0].argmax()] == target_feature[labels[0]]:\n",
        "            positive += 1\n",
        "        else:\n",
        "            negative += 1\n",
        "        # plt.title(f'pred - {target_feature[outputs[0].argmax()]}, gt - {target_feature[labels[0]]}')\n",
        "        # plt.imshow(images[0].cpu().permute(1, 2, 0), cmap='gray')\n",
        "        # plt.show()\n",
        "        if i>11:\n",
        "            break\n",
        "    print(f\"Совпало {positive} из {10} предсказаний\")\n",
        "    print(f\"Не совпало {negative} из {10} предсказаний\")"
      ],
      "metadata": {
        "colab": {
          "base_uri": "https://localhost:8080/"
        },
        "id": "Wm5ugLOkCPD8",
        "outputId": "4361b4c5-d016-4de8-e9dc-a39edc1700e1"
      },
      "execution_count": 30,
      "outputs": [
        {
          "output_type": "stream",
          "name": "stdout",
          "text": [
            "pred - 04_fist_moved, gt - 06_index False\n",
            "pred - 09_c, gt - 09_c True\n",
            "pred - 07_ok, gt - 07_ok True\n",
            "pred - 07_ok, gt - 07_ok True\n",
            "pred - 08_palm_moved, gt - 08_palm_moved True\n",
            "pred - 02_l, gt - 02_l True\n",
            "pred - 02_l, gt - 02_l True\n",
            "pred - 08_palm_moved, gt - 08_palm_moved True\n",
            "pred - 08_palm_moved, gt - 08_palm_moved True\n",
            "pred - 07_ok, gt - 07_ok True\n",
            "Совпало 9 из 10 предсказаний\n",
            "Не совпало 1 из 10 предсказаний\n"
          ]
        }
      ]
    },
    {
      "cell_type": "code",
      "source": [],
      "metadata": {
        "id": "UyjsmtnkSrH8"
      },
      "execution_count": null,
      "outputs": []
    }
  ]
}