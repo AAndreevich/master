{
  "cells": [
    {
      "cell_type": "markdown",
      "metadata": {
        "id": "view-in-github",
        "colab_type": "text"
      },
      "source": [
        "<a href=\"https://colab.research.google.com/github/AAndreevich/master/blob/master/HW3_log_loss_regression.ipynb\" target=\"_parent\"><img src=\"https://colab.research.google.com/assets/colab-badge.svg\" alt=\"Open In Colab\"/></a>"
      ]
    },
    {
      "cell_type": "markdown",
      "metadata": {
        "id": "-h6E40fAWNJT"
      },
      "source": [
        "### Урок 3. Классификация. Логистическая регрессия"
      ]
    },
    {
      "cell_type": "code",
      "execution_count": null,
      "metadata": {
        "id": "zhwkeWtb1O0w"
      },
      "outputs": [],
      "source": [
        "import numpy as np\n",
        "import matplotlib.pyplot as plt\n",
        "import pandas as pd\n",
        "import seaborn as sns\n",
        "from sklearn.model_selection import train_test_split\n",
        "# from sklearn.linear_model import LinearRegression"
      ]
    },
    {
      "cell_type": "code",
      "execution_count": null,
      "metadata": {
        "id": "Lo_GI5PrYEID"
      },
      "outputs": [],
      "source": [
        "\"\"\"Массивы для Х и для у взяты по аналогии с скриптом из 3-го урока и немного увеличены в размерах\"\"\"\n",
        "num = 100\n",
        "np.random.seed(42)\n",
        "x1 = np.random.randint(350, 2000, num)\n",
        "x2 = np.random.randint(0, 10, num)\n",
        "x3 = np.random.randint(1, 3, num)\n",
        "x0 = np.ones(num)\n",
        "X = np.asarray([x0, x1, x2, x3])\n",
        "y = np.asarray(np.random.randint(0, 2, num))"
      ]
    },
    {
      "cell_type": "code",
      "execution_count": null,
      "metadata": {
        "id": "M-aO1NTxOUfo"
      },
      "outputs": [],
      "source": [
        "def calc_std_fit(x):\n",
        "    '''Стандартизация признаков'''\n",
        "    res = (x - x.mean()) / x.std()\n",
        "    return res\n",
        "\n",
        "def calc_logloss(y, y_pred):\n",
        "    '''Логистическая ошибка'''\n",
        "    for i in range(len(y_pred)):\n",
        "        if y_pred[i] == 0:\n",
        "            y_pred[i] = np.median(y_pred)\n",
        "            \n",
        "    err = - np.mean(y * np.log(y_pred) + (1.0 - y) * np.log(1.0 - y_pred))\n",
        "    err = np.sum(err)\n",
        "    return err\n",
        "\n",
        "def sigmoid(z):\n",
        "    res = 1 / (1 + np.exp(-z))\n",
        "    return res\n",
        "\n",
        "def loss_function(x, n=0.5):\n",
        "    los = []\n",
        "    for k in x:\n",
        "        if k > n:\n",
        "            los.append(1)\n",
        "        else:\n",
        "            los.append(0)\n",
        "    return np.asarray(los)\n",
        "\n",
        "def GD (X, y, lambda_=1e-8, min_alpha=1e-2, max_alpha=7e-2, step_alpha=1e-3, min_iteration=100, max_iteration=5000, step_iteration=100, stoper = 1e-4, count=100):\n",
        "    '''Градиентный спуск для расчеты мимнимальной ошибки с подбором скорости обучения и количества иттераций'''\n",
        "    '''alfa_list - параметрами min_alpha, max_alpha и step_alpha \n",
        "    задаем диаппазон для поиска оптимальной скорости обучения'''\n",
        "    alpha_list = np.arange(min_alpha, max_alpha+step_alpha, step_alpha)\n",
        "    end_count = 0\n",
        "    for alpha in alpha_list:\n",
        "        '''Для каждого нового цикла, на вход принимаются изначальные параметры X и y'''\n",
        "        X_new = X\n",
        "        y_new = y\n",
        "        np.random.seed(42)\n",
        "        '''Создаем массив случайных весов'''\n",
        "        W = np.random.randn(X_new.shape[0])\n",
        "        number_objects = X_new.shape[1]\n",
        "        '''Создаем список в котором будут храниться значения ошибок для сравнения'''\n",
        "        err_list = [np.inf]\n",
        "        for iteration in range(max_iteration):\n",
        "            z = np.dot(W, X_new)\n",
        "            y_pred = sigmoid(z)\n",
        "            err = calc_logloss(y_new, y_pred)\n",
        "            W -= alpha * (1/number_objects * np.dot((y_pred - y_new), X_new.T))\n",
        "            if iteration % (count / 10) == 0:\n",
        "                '''Сохранение данных об ошибке в список'''\n",
        "                err_list.append(round(err,5))\n",
        "#             if iteration % (count / 10) == 0:\n",
        "#                 print(iteration, W, err, round(alpha, 7), '\\n', y_pred) #, err_list)\n",
        "            if np.abs((err_list[-1] - err_list[-2])) < stoper:\n",
        "                '''Сообщение о удачном подборе параметров и вывод соответствующих и график'''\n",
        "                print('Solve was finding')\n",
        "                break\n",
        "            if err_list[-1] > err_list[-2]:\n",
        "                '''Проверка условия роста функции (Изменение скорости обучения)'''\n",
        "                print('Function grow up!')\n",
        "                break\n",
        "        if iteration == max_iteration:\n",
        "            end_count += 1\n",
        "            print(end_count)\n",
        "            '''Сообщение о смене скорости обучения'''\n",
        "            print(f'Searching solve: alfa = {round(alpha, 6)}, err = {err}')\n",
        "            break\n",
        "        if end_count == len(alpha_list):\n",
        "            '''Сообщение об ошибке (Решение не было найдено!)'''\n",
        "            print(\"Solve wasn't finding!\", \"\\n\", \"Try to change quantity iteration or learning rate\")\n",
        "            break\n",
        "        if np.abs((err_list[-1] - err_list[-2])) < stoper:\n",
        "            '''Повотрная проверка для остановки вычислений и вывод подобраных параметров и графика'''\n",
        "            print(f'Number of objects = {number_objects} \\\n",
        "               \\nLearning rate = {round(alpha, 4)} \\\n",
        "               \\nCount iteration = {iteration} \\\n",
        "               \\nInitial weights = {W} \\n')\n",
        "\n",
        "            plt.plot(err_list, 'g', linewidth=3)\n",
        "            plt.ylabel('MSE')\n",
        "            plt.xlabel('count')\n",
        "            plt.show()\n",
        "            break\n",
        "    return number_objects, alpha, iteration, W, err_list[1:], y_pred\n",
        "\n",
        "\n",
        "def calc_pred_proba(W, X, n=0.5):\n",
        "    Z = np.dot(X.T, W)\n",
        "    return sigmoid(Z)\n",
        "\n",
        "\n",
        "def accuracy(y_true, y_pred):\n",
        "    count = 0\n",
        "    for n in range(len(y_true)):\n",
        "        if y_true[n] == y_pred[n]:\n",
        "            count += 1\n",
        "    return count / len(y_true)\n",
        "\n",
        "def errors_matrix(y_true, y_pred):\n",
        "    tp = 0\n",
        "    tn = 0\n",
        "    fp = 0\n",
        "    fn = 0\n",
        "    for v in range(len(y_true)):\n",
        "        if (y_true[v] == 0) and (y_true[v] == y_pred[v]): # TN\n",
        "            tn += 1\n",
        "        elif y_true[v] > y_pred[v]: # FN\n",
        "            fn += 1\n",
        "        elif y_true[v] < y_pred[v]: # FP\n",
        "            fp += 1\n",
        "        else: # TP\n",
        "            tp += 1\n",
        "\n",
        "    return np.array([[tn, fp], [fn, tp]])\n",
        "\n",
        "def precision(x):\n",
        "    \"\"\"x = confusion_matrix from sklearn.metrics\"\"\"\n",
        "    return x[1][1] / (x[1][1] + x[0][1])\n",
        "\n",
        "def recall(x):\n",
        "    \"\"\"x = confusion_matrix from sklearn.metrics\"\"\"\n",
        "    return x[1][1] / (x[1][1] + x[1][0])"
      ]
    },
    {
      "cell_type": "code",
      "execution_count": null,
      "metadata": {
        "id": "mRm8lNJVYEIJ"
      },
      "outputs": [],
      "source": [
        "X1 = calc_std_fit(X)"
      ]
    },
    {
      "cell_type": "code",
      "execution_count": null,
      "metadata": {
        "scrolled": false,
        "id": "-sGRYg_lYEIL",
        "outputId": "395f2291-0627-4a7b-9875-cb94692d05db"
      },
      "outputs": [
        {
          "name": "stdout",
          "output_type": "stream",
          "text": [
            "Solve was finding\n",
            "Number of objects = 100                \n",
            "Learning rate = 0.01                \n",
            "Count iteration = 1700                \n",
            "Initial weights = [-0.12353982  0.34455017  0.03884858  0.9042556 ] \n",
            "\n"
          ]
        },
        {
          "data": {
            "image/png": "[encoded data removed]",
            "text/plain": [
              "<Figure size 432x288 with 1 Axes>"
            ]
          },
          "metadata": {
            "needs_background": "light"
          },
          "output_type": "display_data"
        }
      ],
      "source": [
        "number_objects, learning_rate, iteration, Width, err_list, y_pred = GD(X1, y, min_alpha=1e-2, max_alpha=7e-2, \\\n",
        "                                                               step_alpha=1e-4, min_iteration=100, \\\n",
        "                                                               max_iteration=3000, step_iteration=100, \\\n",
        "                                                               stoper = 1e-4, count=100)"
      ]
    },
    {
      "cell_type": "markdown",
      "metadata": {
        "id": "MW4rVurIWNKE"
      },
      "source": [
        "## Практическое задание"
      ]
    },
    {
      "cell_type": "markdown",
      "metadata": {
        "id": "OrKTLjzpWNKF"
      },
      "source": [
        "1. Измените функцию calc_logloss так, чтобы нули по возможности не попадали в np.log.\n",
        "2. Подберите аргументы функции eval_model для логистической регрессии таким образом, чтобы log loss был минимальным.\n",
        "3. Создайте функцию calc_pred_proba, возвращающую предсказанную вероятность класса 1. На вход подаётся W, который уже посчитан функцией eval_model, и X, на выходе — массив y_pred_proba.\n",
        "4. Создайте функцию calc_pred, возвращающую предсказанный класс. На вход подаётся W, который уже посчитан функцией eval_model, и X, на выходе — массив y_pred.\n",
        "5. Посчитайте Accuracy, матрицу ошибок, точность и полноту, а также F1 score.\n",
        "6. Могла ли модель переобучиться? Почему?"
      ]
    },
    {
      "cell_type": "code",
      "execution_count": null,
      "metadata": {
        "id": "DDff4ObYYEIO",
        "outputId": "2143b91f-7235-4306-c2e0-d54d6a6293bc"
      },
      "outputs": [
        {
          "data": {
            "text/plain": [
              "array([0.56487957, 0.61266898, 0.52563263, 0.58917545, 0.56584627,\n",
              "       0.56038234, 0.55289137, 0.63763507, 0.41708475, 0.46771147,\n",
              "       0.58151457, 0.44766751, 0.61595279, 0.41180653, 0.60417488,\n",
              "       0.56444162, 0.52727788, 0.41800555, 0.59505052, 0.5125485 ,\n",
              "       0.44909213, 0.62083459, 0.60993492, 0.51800528, 0.45572356,\n",
              "       0.57823595, 0.53979221, 0.43971916, 0.57334226, 0.46627213,\n",
              "       0.59566906, 0.40234657, 0.43582758, 0.50896124, 0.52552912,\n",
              "       0.63049396, 0.46840627, 0.55883081, 0.47417175, 0.61862692,\n",
              "       0.50212504, 0.54264158, 0.42661866, 0.54037458, 0.500195  ,\n",
              "       0.54002072, 0.48155465, 0.63135486, 0.58532141, 0.52184253,\n",
              "       0.6227918 , 0.56899496, 0.61951978, 0.49435705, 0.40257857,\n",
              "       0.52270367, 0.42364506, 0.58960661, 0.45601818, 0.48714059,\n",
              "       0.4449983 , 0.4013012 , 0.43453917, 0.51363723, 0.59986355,\n",
              "       0.48224032, 0.53122485, 0.59905623, 0.41284092, 0.60325834,\n",
              "       0.53980884, 0.61574369, 0.61197475, 0.47350376, 0.51301586,\n",
              "       0.40457979, 0.42901016, 0.56168213, 0.63061671, 0.6059471 ,\n",
              "       0.55000101, 0.54986512, 0.60655472, 0.48196602, 0.56533387,\n",
              "       0.6187986 , 0.50257043, 0.45801487, 0.50672928, 0.62948533,\n",
              "       0.4229529 , 0.42879367, 0.54568737, 0.4386458 , 0.51894835,\n",
              "       0.58948783, 0.46610217, 0.6166793 , 0.58647408, 0.54866125])"
            ]
          },
          "execution_count": 41,
          "metadata": {},
          "output_type": "execute_result"
        }
      ],
      "source": [
        "y_pred_proba1 = calc_pred_proba(Width, X1)\n",
        "y_pred_proba1"
      ]
    },
    {
      "cell_type": "code",
      "execution_count": null,
      "metadata": {
        "id": "wITveTdeYEIP"
      },
      "outputs": [],
      "source": [
        "y_pred_proba = loss_function(y_pred_proba1)"
      ]
    },
    {
      "cell_type": "code",
      "execution_count": null,
      "metadata": {
        "id": "GjyknW05YEIQ",
        "outputId": "7b2ab403-1eb3-4df8-fda8-d9f852e3b415"
      },
      "outputs": [
        {
          "data": {
            "image/png": "[encoded data removed]",
            "text/plain": [
              "<Figure size 432x288 with 1 Axes>"
            ]
          },
          "metadata": {
            "needs_background": "light"
          },
          "output_type": "display_data"
        }
      ],
      "source": [
        "m = 0.5\n",
        "line = np.linspace(m, m, num)\n",
        "skyline = np.linspace(0, num, num)\n",
        "plt.plot(y_pred_proba1)\n",
        "plt.plot(skyline, line, 'r-')\n",
        "plt.show()"
      ]
    },
    {
      "cell_type": "code",
      "execution_count": null,
      "metadata": {
        "id": "6UuMRc2nYEIR",
        "outputId": "836b5ef3-957e-49c6-b218-b8f1dba757a7"
      },
      "outputs": [
        {
          "data": {
            "text/plain": [
              "0.52"
            ]
          },
          "execution_count": 44,
          "metadata": {},
          "output_type": "execute_result"
        }
      ],
      "source": [
        "M = accuracy(y, y_pred_proba)\n",
        "M"
      ]
    },
    {
      "cell_type": "code",
      "execution_count": null,
      "metadata": {
        "id": "gnzIzI6oYEIS"
      },
      "outputs": [],
      "source": [
        "from sklearn.metrics import accuracy_score"
      ]
    },
    {
      "cell_type": "code",
      "execution_count": null,
      "metadata": {
        "id": "FJoD5kuAYEIS",
        "outputId": "9ab1c480-a53b-4598-c630-ff677c544999"
      },
      "outputs": [
        {
          "data": {
            "text/plain": [
              "0.52"
            ]
          },
          "execution_count": 46,
          "metadata": {},
          "output_type": "execute_result"
        }
      ],
      "source": [
        "A = accuracy_score(y, y_pred_proba)\n",
        "A"
      ]
    },
    {
      "cell_type": "code",
      "execution_count": null,
      "metadata": {
        "id": "eMDdkS_ZYEIT",
        "outputId": "23faaea5-740f-4db3-fc32-73566ea4749e"
      },
      "outputs": [
        {
          "data": {
            "text/plain": [
              "array([[15, 29],\n",
              "       [19, 37]])"
            ]
          },
          "execution_count": 47,
          "metadata": {},
          "output_type": "execute_result"
        }
      ],
      "source": [
        "C = errors_matrix(y, y_pred_proba)\n",
        "C"
      ]
    },
    {
      "cell_type": "code",
      "execution_count": null,
      "metadata": {
        "id": "wIxrGNvzYEIT"
      },
      "outputs": [],
      "source": [
        "from sklearn.metrics import confusion_matrix"
      ]
    },
    {
      "cell_type": "code",
      "execution_count": null,
      "metadata": {
        "id": "fYnnlK_eYEIU",
        "outputId": "c06b9322-234d-4dbb-f37d-b639620d2efc"
      },
      "outputs": [
        {
          "data": {
            "text/plain": [
              "array([[15, 29],\n",
              "       [19, 37]], dtype=int64)"
            ]
          },
          "execution_count": 49,
          "metadata": {},
          "output_type": "execute_result"
        }
      ],
      "source": [
        "N = confusion_matrix(y, y_pred_proba)\n",
        "N"
      ]
    },
    {
      "cell_type": "code",
      "execution_count": null,
      "metadata": {
        "id": "3kP0OPKmYEIV",
        "outputId": "0a2e5ea2-f4fd-4d3b-ffa1-e1301bf74355"
      },
      "outputs": [
        {
          "data": {
            "text/plain": [
              "0.5606060606060606"
            ]
          },
          "execution_count": 50,
          "metadata": {},
          "output_type": "execute_result"
        }
      ],
      "source": [
        "P = precision(C)\n",
        "P"
      ]
    },
    {
      "cell_type": "code",
      "execution_count": null,
      "metadata": {
        "id": "V0sw4RbtYEIV",
        "outputId": "7e906412-a6ca-460c-c334-6a52dc055ab3"
      },
      "outputs": [
        {
          "data": {
            "text/plain": [
              "0.6607142857142857"
            ]
          },
          "execution_count": 51,
          "metadata": {},
          "output_type": "execute_result"
        }
      ],
      "source": [
        "R = recall(C)\n",
        "R"
      ]
    },
    {
      "cell_type": "code",
      "execution_count": null,
      "metadata": {
        "id": "W6A3BO9TYEIX",
        "outputId": "9cafdc71-6256-4d09-a8e4-0c4e9599d9f2"
      },
      "outputs": [
        {
          "data": {
            "text/plain": [
              "0.6065573770491803"
            ]
          },
          "execution_count": 52,
          "metadata": {},
          "output_type": "execute_result"
        }
      ],
      "source": [
        "F = 2 * (P * R) / (P + R)\n",
        "F"
      ]
    },
    {
      "cell_type": "code",
      "execution_count": null,
      "metadata": {
        "id": "W_5zxjg8YEIX"
      },
      "outputs": [],
      "source": [
        "from sklearn.metrics import precision_score\n",
        "from sklearn.metrics import recall_score\n",
        "from sklearn.metrics import f1_score"
      ]
    },
    {
      "cell_type": "code",
      "execution_count": null,
      "metadata": {
        "id": "x8qx57BqYEIX",
        "outputId": "734e2e92-5442-488f-a00a-e154ed9e553e"
      },
      "outputs": [
        {
          "data": {
            "text/plain": [
              "0.6065573770491803"
            ]
          },
          "execution_count": 54,
          "metadata": {},
          "output_type": "execute_result"
        }
      ],
      "source": [
        "F1 = f1_score(y, y_pred_proba)\n",
        "F1"
      ]
    },
    {
      "cell_type": "code",
      "execution_count": null,
      "metadata": {
        "id": "feSid5awYEIY",
        "outputId": "fd0f8650-3796-4bd6-e0d0-0a2a0f17a89f"
      },
      "outputs": [
        {
          "data": {
            "text/plain": [
              "0.5606060606060606"
            ]
          },
          "execution_count": 55,
          "metadata": {},
          "output_type": "execute_result"
        }
      ],
      "source": [
        "P1 = precision_score(y, y_pred_proba)\n",
        "P1"
      ]
    },
    {
      "cell_type": "code",
      "execution_count": null,
      "metadata": {
        "id": "SwBzETdcYEIZ",
        "outputId": "6ecda331-bdab-4a92-99f1-79791fbf3ba8"
      },
      "outputs": [
        {
          "data": {
            "text/plain": [
              "0.6607142857142857"
            ]
          },
          "execution_count": 56,
          "metadata": {},
          "output_type": "execute_result"
        }
      ],
      "source": [
        "R1 = recall_score(y, y_pred_proba)\n",
        "R1"
      ]
    }
  ],
  "metadata": {
    "colab": {
      "provenance": [],
      "include_colab_link": true
    },
    "kernelspec": {
      "display_name": "Python 3",
      "language": "python",
      "name": "python3"
    },
    "language_info": {
      "codemirror_mode": {
        "name": "ipython",
        "version": 3
      },
      "file_extension": ".py",
      "mimetype": "text/x-python",
      "name": "python",
      "nbconvert_exporter": "python",
      "pygments_lexer": "ipython3",
      "version": "3.8.8"
    }
  },
  "nbformat": 4,
  "nbformat_minor": 0
}