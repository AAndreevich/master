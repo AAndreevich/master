{
  "cells": [
    {
      "cell_type": "markdown",
      "metadata": {
        "id": "view-in-github",
        "colab_type": "text"
      },
      "source": [
        "<a href=\"https://colab.research.google.com/github/AAndreevich/master/blob/master/HW2_L2_regular.ipynb\" target=\"_parent\"><img src=\"https://colab.research.google.com/assets/colab-badge.svg\" alt=\"Open In Colab\"/></a>"
      ]
    },
    {
      "cell_type": "code",
      "execution_count": null,
      "id": "a17b7bf8",
      "metadata": {
        "id": "a17b7bf8"
      },
      "outputs": [],
      "source": [
        "import numpy as np\n",
        "import matplotlib.pyplot as plt"
      ]
    },
    {
      "cell_type": "code",
      "execution_count": null,
      "id": "743954aa",
      "metadata": {
        "id": "743954aa"
      },
      "outputs": [],
      "source": [
        "X = np.array([[1, 1, 1, 1, 1, 1, 1, 1, 1, 1],\n",
        "              [1, 1, 2, 5, 3, 0, 5, 10, 1, 2],\n",
        "              [500, 700, 750, 600, 1450, 800, 1500, 2000, 450, 1000],\n",
        "              [1, 1, 2, 1, 2, 1, 3, 3, 1, 2]])\n",
        "\n",
        "y = [45, 55, 50, 55, 60, 35, 75, 80, 50, 60]"
      ]
    },
    {
      "cell_type": "code",
      "execution_count": null,
      "id": "589a60f3",
      "metadata": {
        "id": "589a60f3"
      },
      "outputs": [],
      "source": [
        "def calc_std_fit(x):\n",
        "    res = (x - x.mean()) / x.std()\n",
        "    return res\n",
        "\n",
        "def calc_mse(y, y_pred):\n",
        "    err = np.mean((y - y_pred)**2)\n",
        "    return err\n",
        "\n",
        "def eval_model_reg2(X, y, lambda_=1e-8, min_alpha=1e-2, max_alpha=7e-2, step_alpha=1e-3, min_iteration=100, max_iteration=5000, step_iteration=100, stoper = 1e-3):\n",
        "    alpha_list = np.arange(min_alpha, max_alpha+step_alpha, step_alpha)\n",
        "    iteration_list = np.arange(min_iteration, max_iteration+step_iteration, step_iteration)\n",
        "    for iteration in iteration_list:\n",
        "        for alpha in alpha_list:\n",
        "#             X_st = calc_std_fit(X)\n",
        "            np.random.seed(42)\n",
        "            W = np.random.randn(X.shape[0])\n",
        "            n = X.shape[1]\n",
        "            err_list = [0]\n",
        "            step_count = 0\n",
        "            for step in range(iteration):\n",
        "                y_pred = np.dot(W, X)\n",
        "                err = calc_mse(y, y_pred)\n",
        "                step_count += 1\n",
        "                W -= alpha * (1/n * 2 * np.dot((y_pred - y), X.T) + lambda_ * W**2)\n",
        "                if step % (iteration / 100) == 0:\n",
        "                    err_list.append(err)\n",
        "                if np.abs((err_list[-1] - err_list[-2])) < stoper:\n",
        "                    break\n",
        "                elif alpha == alpha_list[-1] and step_count == iteration_list[-1]:\n",
        "                    print(iteration_list, alpha, 'I can not find optimal solve, change quantity iteration or learning rate')\n",
        "                    break\n",
        "            if np.abs((err_list[-1] - err_list[-2])) < stoper:\n",
        "                break\n",
        "        if np.abs((err_list[-1] - err_list[-2])) < stoper:\n",
        "            break\n",
        "    return n, iteration, W, err_list[1:], round(alpha, 3), np.abs((err_list[-1] - err_list[-2]))"
      ]
    },
    {
      "cell_type": "code",
      "execution_count": null,
      "id": "fb7de14a",
      "metadata": {
        "id": "fb7de14a"
      },
      "outputs": [],
      "source": [
        "X = calc_std_fit(X)"
      ]
    },
    {
      "cell_type": "code",
      "execution_count": null,
      "id": "bf4c8135",
      "metadata": {
        "scrolled": true,
        "id": "bf4c8135"
      },
      "outputs": [],
      "source": [
        "n, iterations, Width, mse, learning_rate, q = eval_model_reg2(X, y, min_alpha=1e-2, max_alpha=7e-2, \\\n",
        "                                                              step_alpha=1e-2, min_iteration=100, \\\n",
        "                                                              max_iteration=1000, step_iteration=10, \\\n",
        "                                                              stoper = 1e-3)"
      ]
    },
    {
      "cell_type": "code",
      "execution_count": null,
      "id": "86e6d984",
      "metadata": {
        "id": "86e6d984",
        "outputId": "5c2632e7-06b1-43b6-b045-ba6c71c550ac"
      },
      "outputs": [
        {
          "name": "stdout",
          "output_type": "stream",
          "text": [
            "Number of objects = 10        \n",
            "Learning rate = 0.07        \n",
            "Count iteration = 200        \n",
            "Initial weights = [-27.12926447 -27.45654571  10.71973401 -26.06226162] \n",
            "\n"
          ]
        },
        {
          "data": {
            "image/png": "[encoded data removed]",
            "text/plain": [
              "<Figure size 432x288 with 1 Axes>"
            ]
          },
          "metadata": {
            "needs_background": "light"
          },
          "output_type": "display_data"
        }
      ],
      "source": [
        "print(f'Number of objects = {n} \\\n",
        "       \\nLearning rate = {learning_rate} \\\n",
        "       \\nCount iteration = {iterations} \\\n",
        "       \\nInitial weights = {Width} \\n')\n",
        "\n",
        "plt.plot(mse, 'g', linewidth=3)\n",
        "plt.ylabel('MSE')\n",
        "plt.xlabel('count')\n",
        "plt.show()"
      ]
    },
    {
      "cell_type": "code",
      "execution_count": null,
      "id": "85d3462f",
      "metadata": {
        "id": "85d3462f"
      },
      "outputs": [],
      "source": []
    }
  ],
  "metadata": {
    "kernelspec": {
      "display_name": "Python 3",
      "language": "python",
      "name": "python3"
    },
    "language_info": {
      "codemirror_mode": {
        "name": "ipython",
        "version": 3
      },
      "file_extension": ".py",
      "mimetype": "text/x-python",
      "name": "python",
      "nbconvert_exporter": "python",
      "pygments_lexer": "ipython3",
      "version": "3.8.8"
    },
    "colab": {
      "provenance": [],
      "include_colab_link": true
    }
  },
  "nbformat": 4,
  "nbformat_minor": 5
}