{
  "nbformat": 4,
  "nbformat_minor": 0,
  "metadata": {
    "colab": {
      "provenance": []
    },
    "kernelspec": {
      "name": "python3",
      "display_name": "Python 3"
    },
    "language_info": {
      "name": "python"
    }
  },
  "cells": [
    {
      "cell_type": "markdown",
      "source": [
        "https://github.com/selfedu-rus/neural-network/blob/master/lesson%2025.%20GRU%20sentiment%20analysis.py\n",
        "\n",
        "https://www.youtube.com/playlist?list=PLA0M1Bcd0w8yv0XGiF1wjerjSZVSrYbjh"
      ],
      "metadata": {
        "id": "M9Z2_fs4GDNE"
      }
    },
    {
      "cell_type": "code",
      "source": [
        "import time\n",
        "import numpy as np\n",
        "import matplotlib.pyplot as plt\n",
        "import re\n",
        "from tensorflow.keras.layers import Input, Dense, SimpleRNN, LSTM, Embedding, Bidirectional, GRU, Dropout, ConvLSTM2D, ConvLSTM1D\n",
        "from tensorflow.keras.callbacks import EarlyStopping\n",
        "from tensorflow.keras.models import Model, Sequential\n",
        "from tensorflow.keras.preprocessing.text import Tokenizer\n",
        "from tensorflow.keras.utils import to_categorical\n",
        "from sklearn.metrics import accuracy_score, recall_score, precision_score\n",
        "import tensorflow as tf\n",
        "import codecs\n",
        "from google.colab import files"
      ],
      "metadata": {
        "id": "EX-nPrIzQXNt"
      },
      "execution_count": 1,
      "outputs": []
    },
    {
      "cell_type": "markdown",
      "source": [
        "## 1 Загрузка тектового файла"
      ],
      "metadata": {
        "id": "ak6Gm-dwxBTu"
      }
    },
    {
      "cell_type": "code",
      "source": [
        "uploaded = files.upload()"
      ],
      "metadata": {
        "colab": {
          "base_uri": "https://localhost:8080/",
          "height": 74
        },
        "id": "zl_UppzZm8fs",
        "outputId": "80449490-e9af-47be-a93c-bd97e922fd8e"
      },
      "execution_count": null,
      "outputs": [
        {
          "output_type": "display_data",
          "data": {
            "text/plain": [
              "<IPython.core.display.HTML object>"
            ],
            "text/html": [
              "\n",
              "     <input type=\"file\" id=\"files-534cc1fd-09c9-40b4-8350-97ab06215586\" name=\"files[]\" multiple disabled\n",
              "        style=\"border:none\" />\n",
              "     <output id=\"result-534cc1fd-09c9-40b4-8350-97ab06215586\">\n",
              "      Upload widget is only available when the cell has been executed in the\n",
              "      current browser session. Please rerun this cell to enable.\n",
              "      </output>\n",
              "      <script>// Copyright 2017 Google LLC\n",
              "//\n",
              "// Licensed under the Apache License, Version 2.0 (the \"License\");\n",
              "// you may not use this file except in compliance with the License.\n",
              "// You may obtain a copy of the License at\n",
              "//\n",
              "//      http://www.apache.org/licenses/LICENSE-2.0\n",
              "//\n",
              "// Unless required by applicable law or agreed to in writing, software\n",
              "// distributed under the License is distributed on an \"AS IS\" BASIS,\n",
              "// WITHOUT WARRANTIES OR CONDITIONS OF ANY KIND, either express or implied.\n",
              "// See the License for the specific language governing permissions and\n",
              "// limitations under the License.\n",
              "\n",
              "/**\n",
              " * @fileoverview Helpers for google.colab Python module.\n",
              " */\n",
              "(function(scope) {\n",
              "function span(text, styleAttributes = {}) {\n",
              "  const element = document.createElement('span');\n",
              "  element.textContent = text;\n",
              "  for (const key of Object.keys(styleAttributes)) {\n",
              "    element.style[key] = styleAttributes[key];\n",
              "  }\n",
              "  return element;\n",
              "}\n",
              "\n",
              "// Max number of bytes which will be uploaded at a time.\n",
              "const MAX_PAYLOAD_SIZE = 100 * 1024;\n",
              "\n",
              "function _uploadFiles(inputId, outputId) {\n",
              "  const steps = uploadFilesStep(inputId, outputId);\n",
              "  const outputElement = document.getElementById(outputId);\n",
              "  // Cache steps on the outputElement to make it available for the next call\n",
              "  // to uploadFilesContinue from Python.\n",
              "  outputElement.steps = steps;\n",
              "\n",
              "  return _uploadFilesContinue(outputId);\n",
              "}\n",
              "\n",
              "// This is roughly an async generator (not supported in the browser yet),\n",
              "// where there are multiple asynchronous steps and the Python side is going\n",
              "// to poll for completion of each step.\n",
              "// This uses a Promise to block the python side on completion of each step,\n",
              "// then passes the result of the previous step as the input to the next step.\n",
              "function _uploadFilesContinue(outputId) {\n",
              "  const outputElement = document.getElementById(outputId);\n",
              "  const steps = outputElement.steps;\n",
              "\n",
              "  const next = steps.next(outputElement.lastPromiseValue);\n",
              "  return Promise.resolve(next.value.promise).then((value) => {\n",
              "    // Cache the last promise value to make it available to the next\n",
              "    // step of the generator.\n",
              "    outputElement.lastPromiseValue = value;\n",
              "    return next.value.response;\n",
              "  });\n",
              "}\n",
              "\n",
              "/**\n",
              " * Generator function which is called between each async step of the upload\n",
              " * process.\n",
              " * @param {string} inputId Element ID of the input file picker element.\n",
              " * @param {string} outputId Element ID of the output display.\n",
              " * @return {!Iterable<!Object>} Iterable of next steps.\n",
              " */\n",
              "function* uploadFilesStep(inputId, outputId) {\n",
              "  const inputElement = document.getElementById(inputId);\n",
              "  inputElement.disabled = false;\n",
              "\n",
              "  const outputElement = document.getElementById(outputId);\n",
              "  outputElement.innerHTML = '';\n",
              "\n",
              "  const pickedPromise = new Promise((resolve) => {\n",
              "    inputElement.addEventListener('change', (e) => {\n",
              "      resolve(e.target.files);\n",
              "    });\n",
              "  });\n",
              "\n",
              "  const cancel = document.createElement('button');\n",
              "  inputElement.parentElement.appendChild(cancel);\n",
              "  cancel.textContent = 'Cancel upload';\n",
              "  const cancelPromise = new Promise((resolve) => {\n",
              "    cancel.onclick = () => {\n",
              "      resolve(null);\n",
              "    };\n",
              "  });\n",
              "\n",
              "  // Wait for the user to pick the files.\n",
              "  const files = yield {\n",
              "    promise: Promise.race([pickedPromise, cancelPromise]),\n",
              "    response: {\n",
              "      action: 'starting',\n",
              "    }\n",
              "  };\n",
              "\n",
              "  cancel.remove();\n",
              "\n",
              "  // Disable the input element since further picks are not allowed.\n",
              "  inputElement.disabled = true;\n",
              "\n",
              "  if (!files) {\n",
              "    return {\n",
              "      response: {\n",
              "        action: 'complete',\n",
              "      }\n",
              "    };\n",
              "  }\n",
              "\n",
              "  for (const file of files) {\n",
              "    const li = document.createElement('li');\n",
              "    li.append(span(file.name, {fontWeight: 'bold'}));\n",
              "    li.append(span(\n",
              "        `(${file.type || 'n/a'}) - ${file.size} bytes, ` +\n",
              "        `last modified: ${\n",
              "            file.lastModifiedDate ? file.lastModifiedDate.toLocaleDateString() :\n",
              "                                    'n/a'} - `));\n",
              "    const percent = span('0% done');\n",
              "    li.appendChild(percent);\n",
              "\n",
              "    outputElement.appendChild(li);\n",
              "\n",
              "    const fileDataPromise = new Promise((resolve) => {\n",
              "      const reader = new FileReader();\n",
              "      reader.onload = (e) => {\n",
              "        resolve(e.target.result);\n",
              "      };\n",
              "      reader.readAsArrayBuffer(file);\n",
              "    });\n",
              "    // Wait for the data to be ready.\n",
              "    let fileData = yield {\n",
              "      promise: fileDataPromise,\n",
              "      response: {\n",
              "        action: 'continue',\n",
              "      }\n",
              "    };\n",
              "\n",
              "    // Use a chunked sending to avoid message size limits. See b/62115660.\n",
              "    let position = 0;\n",
              "    do {\n",
              "      const length = Math.min(fileData.byteLength - position, MAX_PAYLOAD_SIZE);\n",
              "      const chunk = new Uint8Array(fileData, position, length);\n",
              "      position += length;\n",
              "\n",
              "      const base64 = btoa(String.fromCharCode.apply(null, chunk));\n",
              "      yield {\n",
              "        response: {\n",
              "          action: 'append',\n",
              "          file: file.name,\n",
              "          data: base64,\n",
              "        },\n",
              "      };\n",
              "\n",
              "      let percentDone = fileData.byteLength === 0 ?\n",
              "          100 :\n",
              "          Math.round((position / fileData.byteLength) * 100);\n",
              "      percent.textContent = `${percentDone}% done`;\n",
              "\n",
              "    } while (position < fileData.byteLength);\n",
              "  }\n",
              "\n",
              "  // All done.\n",
              "  yield {\n",
              "    response: {\n",
              "      action: 'complete',\n",
              "    }\n",
              "  };\n",
              "}\n",
              "\n",
              "scope.google = scope.google || {};\n",
              "scope.google.colab = scope.google.colab || {};\n",
              "scope.google.colab._files = {\n",
              "  _uploadFiles,\n",
              "  _uploadFilesContinue,\n",
              "};\n",
              "})(self);\n",
              "</script> "
            ]
          },
          "metadata": {}
        },
        {
          "output_type": "stream",
          "name": "stdout",
          "text": [
            "Saving war_and_peace.txt to war_and_peace.txt\n"
          ]
        }
      ]
    },
    {
      "cell_type": "markdown",
      "source": [
        "## 2 Открытие тектового файла"
      ],
      "metadata": {
        "id": "QwA6gUYSxI_D"
      }
    },
    {
      "cell_type": "code",
      "source": [
        "with open('Mednyy_vsadnik.txt', 'r', encoding='utf-8') as f:\n",
        "    text = f.read()\n",
        "    text = re.sub(r'^$', ' ', text) # Удаление пустых строк\n",
        "    text = re.sub(r'\\n\\n', ' ', text) # Удаление переноса строк\n",
        "    text = re.sub(r'\\n', '', text) # Удаление переноса строк"
      ],
      "metadata": {
        "id": "Uo9EJVVCnltm"
      },
      "execution_count": null,
      "outputs": []
    },
    {
      "cell_type": "markdown",
      "source": [
        "## 3 Предварительна подготовка данных"
      ],
      "metadata": {
        "id": "6eKFZCTPywIY"
      }
    },
    {
      "cell_type": "code",
      "source": [
        "words_count = 1000 # количество частовстречающихся слов для обучения\n",
        "tokenizer = Tokenizer(num_words=words_count)\n",
        "tokenizer.fit_on_texts([text])"
      ],
      "metadata": {
        "id": "Me8jGAzvsWS5"
      },
      "execution_count": null,
      "outputs": []
    },
    {
      "cell_type": "code",
      "source": [
        "dist = list(tokenizer.word_counts.items())\n",
        "print(dist[:15]) # Количество встречающихся слов"
      ],
      "metadata": {
        "colab": {
          "base_uri": "https://localhost:8080/"
        },
        "id": "dRQhs2WeaduT",
        "outputId": "4a2f6be6-1cee-47b2-f003-007f98670f91"
      },
      "execution_count": null,
      "outputs": [
        {
          "output_type": "stream",
          "name": "stdout",
          "text": [
            "[('александр', 1), ('сергеевич', 1), ('пушкин', 5), ('медный', 3), ('всадник', 3), ('петербургская', 1), ('повесть', 1), ('предисловие', 1), ('происшествие', 1), ('описанное', 1), ('в', 96), ('сей', 1), ('повести', 1), ('основано', 1), ('на', 43)]\n"
          ]
        }
      ]
    },
    {
      "cell_type": "code",
      "source": [
        "# Преобразование слов в последовательность чисел\n",
        "data = tokenizer.texts_to_sequences([text])\n",
        "res = np.array(data[0]) # Для Embedding"
      ],
      "metadata": {
        "id": "eezkRFGr-sz0"
      },
      "execution_count": null,
      "outputs": []
    },
    {
      "cell_type": "code",
      "source": [
        "res[:10]"
      ],
      "metadata": {
        "colab": {
          "base_uri": "https://localhost:8080/"
        },
        "id": "EFDF31UY3J3_",
        "outputId": "2e915c3c-145c-47a6-a987-8ee38374bc4d"
      },
      "execution_count": null,
      "outputs": [
        {
          "output_type": "execute_result",
          "data": {
            "text/plain": [
              "array([412, 413,  54, 109, 110, 414, 415, 416, 417, 418])"
            ]
          },
          "metadata": {},
          "execution_count": 135
        }
      ]
    },
    {
      "cell_type": "code",
      "source": [
        "inp_words = 3 # Количество слов на основе которых будет выполняться предсказание\n",
        "n = res.shape[0] - inp_words"
      ],
      "metadata": {
        "id": "xyaAmQL2-35P"
      },
      "execution_count": null,
      "outputs": []
    },
    {
      "cell_type": "code",
      "source": [
        "X = np.array([res[i:i + inp_words] for i in range(n)]) # Формирование обучающей выборки\n",
        "Y = to_categorical(res[inp_words:], num_classes=words_count) # Предсказываемые значения"
      ],
      "metadata": {
        "id": "Apds9j3x-53H"
      },
      "execution_count": null,
      "outputs": []
    },
    {
      "cell_type": "markdown",
      "source": [
        "## 4 Сборка модели"
      ],
      "metadata": {
        "id": "ZAe2rfho5obS"
      }
    },
    {
      "cell_type": "code",
      "source": [
        "callback = EarlyStopping(monitor='accuracy', patience=10)"
      ],
      "metadata": {
        "id": "yMkrEkpU8qch"
      },
      "execution_count": null,
      "outputs": []
    },
    {
      "cell_type": "code",
      "source": [
        "model1 = Sequential([\n",
        "    Embedding(words_count, 256, input_length=inp_words),\n",
        "    Bidirectional(LSTM(128, dropout=0.2, return_sequences=True)),\n",
        "    LSTM(64, dropout=0.4, return_sequences=True),\n",
        "    SimpleRNN(128, activation='tanh'),\n",
        "    Dense(words_count/2, activation='relu'),\n",
        "    Dense(words_count, activation='softmax')\n",
        "])"
      ],
      "metadata": {
        "id": "oJOjG7-I-773"
      },
      "execution_count": null,
      "outputs": []
    },
    {
      "cell_type": "code",
      "source": [
        "model1.summary()"
      ],
      "metadata": {
        "colab": {
          "base_uri": "https://localhost:8080/"
        },
        "id": "IBi90dj3AbLY",
        "outputId": "8266cc31-4d85-48df-df3e-71f045808a03"
      },
      "execution_count": null,
      "outputs": [
        {
          "output_type": "stream",
          "name": "stdout",
          "text": [
            "Model: \"sequential_9\"\n",
            "_________________________________________________________________\n",
            " Layer (type)                Output Shape              Param #   \n",
            "=================================================================\n",
            " embedding_14 (Embedding)    (None, 3, 256)            256000    \n",
            "                                                                 \n",
            " bidirectional_4 (Bidirecti  (None, 3, 256)            394240    \n",
            " onal)                                                           \n",
            "                                                                 \n",
            " lstm_9 (LSTM)               (None, 3, 64)             82176     \n",
            "                                                                 \n",
            " simple_rnn_31 (SimpleRNN)   (None, 128)               24704     \n",
            "                                                                 \n",
            " dense_23 (Dense)            (None, 500)               64500     \n",
            "                                                                 \n",
            " dense_24 (Dense)            (None, 1000)              501000    \n",
            "                                                                 \n",
            "=================================================================\n",
            "Total params: 1322620 (5.05 MB)\n",
            "Trainable params: 1322620 (5.05 MB)\n",
            "Non-trainable params: 0 (0.00 Byte)\n",
            "_________________________________________________________________\n"
          ]
        }
      ]
    },
    {
      "cell_type": "code",
      "source": [
        "model2 = Sequential([\n",
        "    Embedding(words_count, 256, input_length=inp_words),\n",
        "    SimpleRNN(128, activation='relu', dropout=0.2, return_sequences=True),\n",
        "    SimpleRNN(128, activation='relu', dropout=0.3, return_sequences=True),\n",
        "    SimpleRNN(64, activation='relu'),\n",
        "    Dense(words_count/2, activation='relu'),\n",
        "    Dense(words_count, activation='softmax')\n",
        "])"
      ],
      "metadata": {
        "id": "p3eDtU7tDpDX"
      },
      "execution_count": null,
      "outputs": []
    },
    {
      "cell_type": "code",
      "source": [
        "model2.summary()"
      ],
      "metadata": {
        "colab": {
          "base_uri": "https://localhost:8080/"
        },
        "id": "Z3MpPU9I2REN",
        "outputId": "4f09ae1c-c0a3-4dd1-a931-3d571dafa8e9"
      },
      "execution_count": null,
      "outputs": [
        {
          "output_type": "stream",
          "name": "stdout",
          "text": [
            "Model: \"sequential_10\"\n",
            "_________________________________________________________________\n",
            " Layer (type)                Output Shape              Param #   \n",
            "=================================================================\n",
            " embedding_15 (Embedding)    (None, 3, 256)            256000    \n",
            "                                                                 \n",
            " simple_rnn_32 (SimpleRNN)   (None, 3, 128)            49280     \n",
            "                                                                 \n",
            " simple_rnn_33 (SimpleRNN)   (None, 3, 128)            32896     \n",
            "                                                                 \n",
            " simple_rnn_34 (SimpleRNN)   (None, 64)                12352     \n",
            "                                                                 \n",
            " dense_25 (Dense)            (None, 500)               32500     \n",
            "                                                                 \n",
            " dense_26 (Dense)            (None, 1000)              501000    \n",
            "                                                                 \n",
            "=================================================================\n",
            "Total params: 884028 (3.37 MB)\n",
            "Trainable params: 884028 (3.37 MB)\n",
            "Non-trainable params: 0 (0.00 Byte)\n",
            "_________________________________________________________________\n"
          ]
        }
      ]
    },
    {
      "cell_type": "markdown",
      "source": [
        "## 5 Компиляция и обучение моделей\n"
      ],
      "metadata": {
        "id": "67ysTbts7PWg"
      }
    },
    {
      "cell_type": "markdown",
      "source": [
        "Для подборки было выбрано 2 модели\n",
        "Первая представленная на уроке 5 и дополненна одним простым рекурентным слоем\n",
        "Вторая Состаящая аолность из трех последовательных рекурентных слоев"
      ],
      "metadata": {
        "id": "AXrePGqw7r0y"
      }
    },
    {
      "cell_type": "code",
      "source": [
        "model1.compile(loss='categorical_crossentropy', metrics=['accuracy'], optimizer='adam')"
      ],
      "metadata": {
        "id": "ldkJUqRfAdV6"
      },
      "execution_count": null,
      "outputs": []
    },
    {
      "cell_type": "code",
      "source": [
        "history1 = model1.fit(X, Y, batch_size=50, epochs=50,  validation_split=0.2, callbacks=[callback], verbose=1)"
      ],
      "metadata": {
        "colab": {
          "base_uri": "https://localhost:8080/"
        },
        "id": "unUUm15sAgbf",
        "outputId": "7d2c655c-81a0-4bc5-ef9c-279d6b6375c6"
      },
      "execution_count": null,
      "outputs": [
        {
          "output_type": "stream",
          "name": "stdout",
          "text": [
            "Epoch 1/50\n",
            "40/40 [==============================] - 2s 51ms/step - loss: 1.2550 - accuracy: 0.6160 - val_loss: 26.3528 - val_accuracy: 0.0691\n",
            "Epoch 2/50\n",
            "40/40 [==============================] - 2s 49ms/step - loss: 1.9597 - accuracy: 0.4491 - val_loss: 24.2676 - val_accuracy: 0.0711\n",
            "Epoch 3/50\n",
            "40/40 [==============================] - 2s 51ms/step - loss: 1.7667 - accuracy: 0.4807 - val_loss: 23.2008 - val_accuracy: 0.0732\n",
            "Epoch 4/50\n",
            "40/40 [==============================] - 3s 63ms/step - loss: 1.3606 - accuracy: 0.5824 - val_loss: 22.9180 - val_accuracy: 0.0813\n",
            "Epoch 5/50\n",
            "40/40 [==============================] - 2s 58ms/step - loss: 1.0912 - accuracy: 0.6572 - val_loss: 23.8533 - val_accuracy: 0.0833\n",
            "Epoch 6/50\n",
            "40/40 [==============================] - 2s 51ms/step - loss: 0.8915 - accuracy: 0.7213 - val_loss: 24.3515 - val_accuracy: 0.0874\n",
            "Epoch 7/50\n",
            "40/40 [==============================] - 2s 51ms/step - loss: 0.8484 - accuracy: 0.7340 - val_loss: 24.8171 - val_accuracy: 0.0854\n",
            "Epoch 8/50\n",
            "40/40 [==============================] - 2s 48ms/step - loss: 0.8382 - accuracy: 0.7335 - val_loss: 24.8243 - val_accuracy: 0.0874\n",
            "Epoch 9/50\n",
            "40/40 [==============================] - 2s 50ms/step - loss: 0.7218 - accuracy: 0.7711 - val_loss: 25.2413 - val_accuracy: 0.0833\n",
            "Epoch 10/50\n",
            "40/40 [==============================] - 3s 69ms/step - loss: 0.6390 - accuracy: 0.8032 - val_loss: 25.8610 - val_accuracy: 0.0955\n",
            "Epoch 11/50\n",
            "40/40 [==============================] - 2s 49ms/step - loss: 0.6608 - accuracy: 0.7894 - val_loss: 25.9130 - val_accuracy: 0.0874\n",
            "Epoch 12/50\n",
            "40/40 [==============================] - 2s 51ms/step - loss: 0.5929 - accuracy: 0.8194 - val_loss: 26.1696 - val_accuracy: 0.0874\n",
            "Epoch 13/50\n",
            "40/40 [==============================] - 2s 49ms/step - loss: 0.5386 - accuracy: 0.8393 - val_loss: 26.5314 - val_accuracy: 0.0854\n",
            "Epoch 14/50\n",
            "40/40 [==============================] - 2s 50ms/step - loss: 0.4959 - accuracy: 0.8438 - val_loss: 26.6875 - val_accuracy: 0.0915\n",
            "Epoch 15/50\n",
            "40/40 [==============================] - 2s 59ms/step - loss: 0.4420 - accuracy: 0.8733 - val_loss: 26.7815 - val_accuracy: 0.0935\n",
            "Epoch 16/50\n",
            "40/40 [==============================] - 2s 59ms/step - loss: 0.3820 - accuracy: 0.8911 - val_loss: 27.1226 - val_accuracy: 0.0935\n",
            "Epoch 17/50\n",
            "40/40 [==============================] - 2s 50ms/step - loss: 0.3619 - accuracy: 0.8983 - val_loss: 27.7087 - val_accuracy: 0.0894\n",
            "Epoch 18/50\n",
            "40/40 [==============================] - 2s 48ms/step - loss: 0.3570 - accuracy: 0.8988 - val_loss: 27.8571 - val_accuracy: 0.0894\n",
            "Epoch 19/50\n",
            "40/40 [==============================] - 2s 49ms/step - loss: 0.4022 - accuracy: 0.8815 - val_loss: 28.3756 - val_accuracy: 0.0915\n",
            "Epoch 20/50\n",
            "40/40 [==============================] - 2s 48ms/step - loss: 0.3717 - accuracy: 0.8856 - val_loss: 28.0752 - val_accuracy: 0.0894\n",
            "Epoch 21/50\n",
            "40/40 [==============================] - 3s 67ms/step - loss: 0.3614 - accuracy: 0.8967 - val_loss: 28.5498 - val_accuracy: 0.0955\n",
            "Epoch 22/50\n",
            "40/40 [==============================] - 2s 51ms/step - loss: 0.3312 - accuracy: 0.8978 - val_loss: 28.2669 - val_accuracy: 0.0894\n",
            "Epoch 23/50\n",
            "40/40 [==============================] - 2s 49ms/step - loss: 0.3048 - accuracy: 0.9105 - val_loss: 28.3806 - val_accuracy: 0.1016\n",
            "Epoch 24/50\n",
            "40/40 [==============================] - 2s 52ms/step - loss: 0.2899 - accuracy: 0.9130 - val_loss: 28.7515 - val_accuracy: 0.0935\n",
            "Epoch 25/50\n",
            "40/40 [==============================] - 2s 50ms/step - loss: 0.3169 - accuracy: 0.9028 - val_loss: 28.8006 - val_accuracy: 0.0915\n",
            "Epoch 26/50\n",
            "40/40 [==============================] - 2s 53ms/step - loss: 0.2858 - accuracy: 0.9130 - val_loss: 29.3176 - val_accuracy: 0.0996\n",
            "Epoch 27/50\n",
            "40/40 [==============================] - 3s 64ms/step - loss: 0.3261 - accuracy: 0.8983 - val_loss: 28.9795 - val_accuracy: 0.0935\n",
            "Epoch 28/50\n",
            "40/40 [==============================] - 2s 48ms/step - loss: 0.3711 - accuracy: 0.8906 - val_loss: 29.4791 - val_accuracy: 0.0935\n",
            "Epoch 29/50\n",
            "40/40 [==============================] - 2s 48ms/step - loss: 0.3240 - accuracy: 0.8947 - val_loss: 28.8151 - val_accuracy: 0.0996\n",
            "Epoch 30/50\n",
            "40/40 [==============================] - 2s 47ms/step - loss: 0.2757 - accuracy: 0.9191 - val_loss: 29.3675 - val_accuracy: 0.0935\n",
            "Epoch 31/50\n",
            "40/40 [==============================] - 2s 49ms/step - loss: 0.2628 - accuracy: 0.9156 - val_loss: 29.9019 - val_accuracy: 0.0996\n",
            "Epoch 32/50\n",
            "40/40 [==============================] - 3s 68ms/step - loss: 0.2737 - accuracy: 0.9151 - val_loss: 29.7934 - val_accuracy: 0.0935\n",
            "Epoch 33/50\n",
            "40/40 [==============================] - 2s 49ms/step - loss: 0.2508 - accuracy: 0.9283 - val_loss: 29.7435 - val_accuracy: 0.0935\n",
            "Epoch 34/50\n",
            "40/40 [==============================] - 2s 52ms/step - loss: 0.2561 - accuracy: 0.9222 - val_loss: 30.2647 - val_accuracy: 0.0996\n",
            "Epoch 35/50\n",
            "40/40 [==============================] - 2s 48ms/step - loss: 0.2707 - accuracy: 0.9145 - val_loss: 29.6551 - val_accuracy: 0.0915\n",
            "Epoch 36/50\n",
            "40/40 [==============================] - 2s 48ms/step - loss: 0.2786 - accuracy: 0.9125 - val_loss: 29.8096 - val_accuracy: 0.0915\n",
            "Epoch 37/50\n",
            "40/40 [==============================] - 2s 49ms/step - loss: 0.2734 - accuracy: 0.9176 - val_loss: 29.8294 - val_accuracy: 0.0955\n",
            "Epoch 38/50\n",
            "40/40 [==============================] - 3s 68ms/step - loss: 0.2290 - accuracy: 0.9323 - val_loss: 30.0025 - val_accuracy: 0.0955\n",
            "Epoch 39/50\n",
            "40/40 [==============================] - 2s 49ms/step - loss: 0.2169 - accuracy: 0.9410 - val_loss: 29.8261 - val_accuracy: 0.0996\n",
            "Epoch 40/50\n",
            "40/40 [==============================] - 2s 51ms/step - loss: 0.1894 - accuracy: 0.9456 - val_loss: 29.9175 - val_accuracy: 0.0894\n",
            "Epoch 41/50\n",
            "40/40 [==============================] - 2s 48ms/step - loss: 0.1844 - accuracy: 0.9461 - val_loss: 30.5736 - val_accuracy: 0.0955\n",
            "Epoch 42/50\n",
            "40/40 [==============================] - 2s 50ms/step - loss: 0.1801 - accuracy: 0.9481 - val_loss: 30.8181 - val_accuracy: 0.0955\n",
            "Epoch 43/50\n",
            "40/40 [==============================] - 2s 61ms/step - loss: 0.1839 - accuracy: 0.9435 - val_loss: 30.3898 - val_accuracy: 0.0935\n",
            "Epoch 44/50\n",
            "40/40 [==============================] - 2s 57ms/step - loss: 0.2453 - accuracy: 0.9252 - val_loss: 30.5833 - val_accuracy: 0.0955\n",
            "Epoch 45/50\n",
            "40/40 [==============================] - 2s 48ms/step - loss: 0.1976 - accuracy: 0.9517 - val_loss: 30.5549 - val_accuracy: 0.1037\n",
            "Epoch 46/50\n",
            "40/40 [==============================] - 2s 51ms/step - loss: 0.1977 - accuracy: 0.9334 - val_loss: 30.7900 - val_accuracy: 0.1016\n",
            "Epoch 47/50\n",
            "40/40 [==============================] - 2s 49ms/step - loss: 0.2253 - accuracy: 0.9344 - val_loss: 30.5650 - val_accuracy: 0.1077\n",
            "Epoch 48/50\n",
            "40/40 [==============================] - 2s 52ms/step - loss: 0.2176 - accuracy: 0.9364 - val_loss: 30.7399 - val_accuracy: 0.0996\n",
            "Epoch 49/50\n",
            "40/40 [==============================] - 3s 70ms/step - loss: 0.1877 - accuracy: 0.9379 - val_loss: 30.4793 - val_accuracy: 0.0996\n",
            "Epoch 50/50\n",
            "40/40 [==============================] - 2s 49ms/step - loss: 0.1906 - accuracy: 0.9456 - val_loss: 30.4895 - val_accuracy: 0.0955\n"
          ]
        }
      ]
    },
    {
      "cell_type": "code",
      "source": [
        "model2.compile(loss='categorical_crossentropy', metrics=['accuracy'], optimizer='adam')"
      ],
      "metadata": {
        "id": "8s1hsJ5l3pMy"
      },
      "execution_count": null,
      "outputs": []
    },
    {
      "cell_type": "code",
      "source": [
        "history2 = model2.fit(X, Y, batch_size=50, epochs=50, validation_split=0.2, callbacks=[callback], verbose=1)"
      ],
      "metadata": {
        "colab": {
          "base_uri": "https://localhost:8080/"
        },
        "id": "o3SSlhW_3Q8-",
        "outputId": "0d89be4b-3204-479c-8cef-afc465695406"
      },
      "execution_count": null,
      "outputs": [
        {
          "output_type": "stream",
          "name": "stdout",
          "text": [
            "Epoch 1/50\n",
            "40/40 [==============================] - 6s 57ms/step - loss: 6.7351 - accuracy: 0.0539 - val_loss: 6.4069 - val_accuracy: 0.0732\n",
            "Epoch 2/50\n",
            "40/40 [==============================] - 1s 27ms/step - loss: 6.2487 - accuracy: 0.0651 - val_loss: 6.4618 - val_accuracy: 0.0732\n",
            "Epoch 3/50\n",
            "40/40 [==============================] - 1s 26ms/step - loss: 6.0737 - accuracy: 0.0651 - val_loss: 6.6062 - val_accuracy: 0.0732\n",
            "Epoch 4/50\n",
            "40/40 [==============================] - 1s 27ms/step - loss: 5.9096 - accuracy: 0.0651 - val_loss: 6.8689 - val_accuracy: 0.0732\n",
            "Epoch 5/50\n",
            "40/40 [==============================] - 1s 27ms/step - loss: 5.7454 - accuracy: 0.0651 - val_loss: 7.0152 - val_accuracy: 0.0752\n",
            "Epoch 6/50\n",
            "40/40 [==============================] - 1s 27ms/step - loss: 5.6252 - accuracy: 0.0636 - val_loss: 7.0757 - val_accuracy: 0.0732\n",
            "Epoch 7/50\n",
            "40/40 [==============================] - 1s 28ms/step - loss: 5.4577 - accuracy: 0.0631 - val_loss: 7.3838 - val_accuracy: 0.0671\n",
            "Epoch 8/50\n",
            "40/40 [==============================] - 1s 27ms/step - loss: 5.1669 - accuracy: 0.0666 - val_loss: 7.9024 - val_accuracy: 0.0488\n",
            "Epoch 9/50\n",
            "40/40 [==============================] - 1s 26ms/step - loss: 4.8096 - accuracy: 0.0763 - val_loss: 8.2088 - val_accuracy: 0.0407\n",
            "Epoch 10/50\n",
            "40/40 [==============================] - 1s 32ms/step - loss: 4.4136 - accuracy: 0.1104 - val_loss: 8.7283 - val_accuracy: 0.0427\n",
            "Epoch 11/50\n",
            "40/40 [==============================] - 2s 38ms/step - loss: 4.0453 - accuracy: 0.1261 - val_loss: 9.4498 - val_accuracy: 0.0386\n",
            "Epoch 12/50\n",
            "40/40 [==============================] - 1s 26ms/step - loss: 3.5892 - accuracy: 0.1684 - val_loss: 10.2028 - val_accuracy: 0.0447\n",
            "Epoch 13/50\n",
            "40/40 [==============================] - 1s 26ms/step - loss: 3.2359 - accuracy: 0.2121 - val_loss: 10.9859 - val_accuracy: 0.0569\n",
            "Epoch 14/50\n",
            "40/40 [==============================] - 1s 27ms/step - loss: 2.8244 - accuracy: 0.2752 - val_loss: 12.1172 - val_accuracy: 0.0508\n",
            "Epoch 15/50\n",
            "40/40 [==============================] - 1s 25ms/step - loss: 2.4469 - accuracy: 0.3550 - val_loss: 12.2920 - val_accuracy: 0.0589\n",
            "Epoch 16/50\n",
            "40/40 [==============================] - 1s 27ms/step - loss: 2.1197 - accuracy: 0.4145 - val_loss: 13.4843 - val_accuracy: 0.0772\n",
            "Epoch 17/50\n",
            "40/40 [==============================] - 1s 27ms/step - loss: 1.8068 - accuracy: 0.5081 - val_loss: 15.3811 - val_accuracy: 0.0813\n",
            "Epoch 18/50\n",
            "40/40 [==============================] - 1s 26ms/step - loss: 1.5803 - accuracy: 0.5443 - val_loss: 15.5615 - val_accuracy: 0.0833\n",
            "Epoch 19/50\n",
            "40/40 [==============================] - 1s 25ms/step - loss: 1.3210 - accuracy: 0.6302 - val_loss: 17.3320 - val_accuracy: 0.0935\n",
            "Epoch 20/50\n",
            "40/40 [==============================] - 1s 27ms/step - loss: 1.1337 - accuracy: 0.6572 - val_loss: 17.3837 - val_accuracy: 0.0894\n",
            "Epoch 21/50\n",
            "40/40 [==============================] - 2s 40ms/step - loss: 1.0540 - accuracy: 0.6831 - val_loss: 18.7245 - val_accuracy: 0.0833\n",
            "Epoch 22/50\n",
            "40/40 [==============================] - 1s 30ms/step - loss: 0.9136 - accuracy: 0.7391 - val_loss: 19.1448 - val_accuracy: 0.0894\n",
            "Epoch 23/50\n",
            "40/40 [==============================] - 1s 27ms/step - loss: 0.7486 - accuracy: 0.7808 - val_loss: 19.9663 - val_accuracy: 0.0935\n",
            "Epoch 24/50\n",
            "40/40 [==============================] - 1s 26ms/step - loss: 0.6945 - accuracy: 0.7915 - val_loss: 20.2635 - val_accuracy: 0.0854\n",
            "Epoch 25/50\n",
            "40/40 [==============================] - 1s 28ms/step - loss: 0.5652 - accuracy: 0.8286 - val_loss: 22.3840 - val_accuracy: 0.0894\n",
            "Epoch 26/50\n",
            "40/40 [==============================] - 1s 28ms/step - loss: 0.5794 - accuracy: 0.8260 - val_loss: 20.8488 - val_accuracy: 0.0915\n",
            "Epoch 27/50\n",
            "40/40 [==============================] - 1s 28ms/step - loss: 0.4940 - accuracy: 0.8540 - val_loss: 22.3980 - val_accuracy: 0.0935\n",
            "Epoch 28/50\n",
            "40/40 [==============================] - 1s 29ms/step - loss: 0.4539 - accuracy: 0.8652 - val_loss: 22.6636 - val_accuracy: 0.0915\n",
            "Epoch 29/50\n",
            "40/40 [==============================] - 1s 27ms/step - loss: 0.4035 - accuracy: 0.8810 - val_loss: 23.0209 - val_accuracy: 0.0874\n",
            "Epoch 30/50\n",
            "40/40 [==============================] - 1s 26ms/step - loss: 0.4036 - accuracy: 0.8805 - val_loss: 23.4196 - val_accuracy: 0.0915\n",
            "Epoch 31/50\n",
            "40/40 [==============================] - 1s 34ms/step - loss: 0.3712 - accuracy: 0.8962 - val_loss: 23.6545 - val_accuracy: 0.0894\n",
            "Epoch 32/50\n",
            "40/40 [==============================] - 2s 38ms/step - loss: 0.3296 - accuracy: 0.8988 - val_loss: 22.6315 - val_accuracy: 0.0935\n",
            "Epoch 33/50\n",
            "40/40 [==============================] - 1s 27ms/step - loss: 0.3141 - accuracy: 0.9008 - val_loss: 24.0410 - val_accuracy: 0.0915\n",
            "Epoch 34/50\n",
            "40/40 [==============================] - 1s 25ms/step - loss: 0.2837 - accuracy: 0.9125 - val_loss: 24.4344 - val_accuracy: 0.0915\n",
            "Epoch 35/50\n",
            "40/40 [==============================] - 1s 27ms/step - loss: 0.2885 - accuracy: 0.9161 - val_loss: 23.7386 - val_accuracy: 0.0955\n",
            "Epoch 36/50\n",
            "40/40 [==============================] - 1s 26ms/step - loss: 0.2856 - accuracy: 0.9120 - val_loss: 23.8076 - val_accuracy: 0.0915\n",
            "Epoch 37/50\n",
            "40/40 [==============================] - 1s 26ms/step - loss: 0.2775 - accuracy: 0.9100 - val_loss: 24.4563 - val_accuracy: 0.0955\n",
            "Epoch 38/50\n",
            "40/40 [==============================] - 1s 28ms/step - loss: 0.2386 - accuracy: 0.9288 - val_loss: 24.3797 - val_accuracy: 0.0915\n",
            "Epoch 39/50\n",
            "40/40 [==============================] - 1s 29ms/step - loss: 0.2476 - accuracy: 0.9293 - val_loss: 24.1824 - val_accuracy: 0.0915\n",
            "Epoch 40/50\n",
            "40/40 [==============================] - 1s 29ms/step - loss: 0.2244 - accuracy: 0.9354 - val_loss: 24.3144 - val_accuracy: 0.0955\n",
            "Epoch 41/50\n",
            "40/40 [==============================] - 1s 32ms/step - loss: 0.1895 - accuracy: 0.9415 - val_loss: 24.6050 - val_accuracy: 0.0955\n",
            "Epoch 42/50\n",
            "40/40 [==============================] - 2s 39ms/step - loss: 0.1793 - accuracy: 0.9476 - val_loss: 25.3590 - val_accuracy: 0.0955\n",
            "Epoch 43/50\n",
            "40/40 [==============================] - 1s 27ms/step - loss: 0.2568 - accuracy: 0.9298 - val_loss: 24.3718 - val_accuracy: 0.0955\n",
            "Epoch 44/50\n",
            "40/40 [==============================] - 1s 27ms/step - loss: 0.2121 - accuracy: 0.9349 - val_loss: 24.4142 - val_accuracy: 0.0915\n",
            "Epoch 45/50\n",
            "40/40 [==============================] - 1s 29ms/step - loss: 0.1730 - accuracy: 0.9491 - val_loss: 24.5317 - val_accuracy: 0.0955\n",
            "Epoch 46/50\n",
            "40/40 [==============================] - 1s 30ms/step - loss: 0.1854 - accuracy: 0.9415 - val_loss: 24.6996 - val_accuracy: 0.0935\n",
            "Epoch 47/50\n",
            "40/40 [==============================] - 1s 28ms/step - loss: 0.1932 - accuracy: 0.9415 - val_loss: 25.9674 - val_accuracy: 0.1037\n",
            "Epoch 48/50\n",
            "40/40 [==============================] - 1s 25ms/step - loss: 0.2342 - accuracy: 0.9308 - val_loss: 24.2570 - val_accuracy: 0.0894\n",
            "Epoch 49/50\n",
            "40/40 [==============================] - 1s 29ms/step - loss: 0.2245 - accuracy: 0.9334 - val_loss: 23.7365 - val_accuracy: 0.0955\n",
            "Epoch 50/50\n",
            "40/40 [==============================] - 1s 26ms/step - loss: 0.1975 - accuracy: 0.9466 - val_loss: 23.4147 - val_accuracy: 0.0976\n"
          ]
        }
      ]
    },
    {
      "cell_type": "code",
      "source": [
        "acc1 = history1.history['accuracy']\n",
        "acc_v1 = history1.history['val_accuracy']\n",
        "loss1 = history1.history['loss']\n",
        "loss_v1 = history1.history['val_loss']\n",
        "\n",
        "acc2 = history2.history['accuracy']\n",
        "acc_v2 = history2.history['val_accuracy']\n",
        "loss2 = history2.history['loss']\n",
        "loss_v2 = history2.history['val_loss']\n",
        "\n",
        "epochs1 = range(len(acc1))\n",
        "epochs2 = range(len(acc2))\n",
        "\n",
        "plt.figure()\n",
        "plt.subplot(1,2,1)\n",
        "plt.plot(epochs1, acc1, 'b', label = 'Train')\n",
        "plt.plot(epochs1, acc_v1, 'r', label = 'Test')\n",
        "plt.legend()\n",
        "plt.title('accuracy1')\n",
        "plt.xlabel('eppch1')\n",
        "plt.ylabel('acc1')\n",
        "plt.grid()\n",
        "plt.subplot(1,2,2)\n",
        "plt.plot(epochs2, acc2, 'b', label = 'Train')\n",
        "plt.plot(epochs2, acc_v2, 'r', label = 'Test')\n",
        "plt.legend()\n",
        "plt.title('accuracy2')\n",
        "plt.xlabel('eppch2')\n",
        "plt.ylabel('acc2')\n",
        "plt.grid()\n",
        "\n",
        "plt.figure()\n",
        "plt.subplot(2,2,1)\n",
        "plt.plot(epochs1, loss1, 'b', label = 'Train')\n",
        "plt.plot(epochs1, loss_v1, 'r', label = 'Test')\n",
        "plt.legend()\n",
        "plt.title('loss1')\n",
        "plt.xlabel('eppch1')\n",
        "plt.ylabel('loss1')\n",
        "plt.grid()\n",
        "plt.subplot(2,2,2)\n",
        "plt.plot(epochs2, loss2, 'b', label = 'Train')\n",
        "plt.plot(epochs2, loss_v2, 'r', label = 'Test')\n",
        "plt.title('loss2')\n",
        "plt.xlabel('eppch2')\n",
        "plt.ylabel('loss2')\n",
        "plt.legend()\n",
        "plt.grid()\n",
        "plt.show()"
      ],
      "metadata": {
        "colab": {
          "base_uri": "https://localhost:8080/",
          "height": 725
        },
        "id": "xrkjxIGR4Uwv",
        "outputId": "1fbcbd52-6bbe-4e78-8f6d-9ffa8c08e5e1"
      },
      "execution_count": null,
      "outputs": [
        {
          "output_type": "display_data",
          "data": {
            "text/plain": [
              "<Figure size 640x480 with 2 Axes>"
            ],
            "image/png": "[encoded data removed]"
          },
          "metadata": {}
        },
        {
          "output_type": "display_data",
          "data": {
            "text/plain": [
              "<Figure size 640x480 with 2 Axes>"
            ],
            "image/png": "[encoded data removed]"
          },
          "metadata": {}
        }
      ]
    },
    {
      "cell_type": "code",
      "source": [
        "def buildPhrase(Model, texts, str_len=20):\n",
        "    res = texts\n",
        "    data = tokenizer.texts_to_sequences([texts])[0]\n",
        "    for i in range(str_len):\n",
        "        x = data[i:i + inp_words] # Для Embedding\n",
        "        inp = np.expand_dims(x, axis=0) # Для Embedding\n",
        "\n",
        "        pred = Model.predict(inp)\n",
        "        indx = pred.argmax(axis=1)[0]\n",
        "        data.append(indx)\n",
        "\n",
        "        res += \" \" + tokenizer.index_word[indx]  # дописываем строку\n",
        "\n",
        "    return res"
      ],
      "metadata": {
        "id": "VNVZ4N4H_OG_"
      },
      "execution_count": null,
      "outputs": []
    },
    {
      "cell_type": "markdown",
      "source": [
        "Выполним реализацию предсказаний по каждой из моделей и выведем 25 последующих слов"
      ],
      "metadata": {
        "id": "ROauYjzq8qRA"
      }
    },
    {
      "cell_type": "code",
      "source": [
        "res1 = buildPhrase(model1, \"По ней стремился\", 25)\n",
        "print(res1)"
      ],
      "metadata": {
        "colab": {
          "base_uri": "https://localhost:8080/"
        },
        "id": "lPYHDtq4_2y1",
        "outputId": "a8d0a0ac-e25f-4f1a-a637-1ddca30be97e"
      },
      "execution_count": null,
      "outputs": [
        {
          "output_type": "stream",
          "name": "stdout",
          "text": [
            "1/1 [==============================] - 1s 1s/step\n",
            "1/1 [==============================] - 0s 26ms/step\n",
            "1/1 [==============================] - 0s 24ms/step\n",
            "1/1 [==============================] - 0s 23ms/step\n",
            "1/1 [==============================] - 0s 33ms/step\n",
            "1/1 [==============================] - 0s 24ms/step\n",
            "1/1 [==============================] - 0s 31ms/step\n",
            "1/1 [==============================] - 0s 27ms/step\n",
            "1/1 [==============================] - 0s 28ms/step\n",
            "1/1 [==============================] - 0s 26ms/step\n",
            "1/1 [==============================] - 0s 26ms/step\n",
            "1/1 [==============================] - 0s 28ms/step\n",
            "1/1 [==============================] - 0s 27ms/step\n",
            "1/1 [==============================] - 0s 24ms/step\n",
            "1/1 [==============================] - 0s 25ms/step\n",
            "1/1 [==============================] - 0s 24ms/step\n",
            "1/1 [==============================] - 0s 25ms/step\n",
            "1/1 [==============================] - 0s 28ms/step\n",
            "1/1 [==============================] - 0s 28ms/step\n",
            "1/1 [==============================] - 0s 28ms/step\n",
            "1/1 [==============================] - 0s 25ms/step\n",
            "1/1 [==============================] - 0s 27ms/step\n",
            "1/1 [==============================] - 0s 26ms/step\n",
            "1/1 [==============================] - 0s 27ms/step\n",
            "1/1 [==============================] - 0s 28ms/step\n",
            "По ней стремился одиноко по мшистым топким берегам чернели избы здесь и там приют убогого чухонца и лес неведомый лучам в тумане спрятанного солнца кругом шумел и думал\n"
          ]
        }
      ]
    },
    {
      "cell_type": "code",
      "source": [
        "res2 = buildPhrase(model2, \"По ней стремился\", 25)\n",
        "print(res2)"
      ],
      "metadata": {
        "id": "KuG3Qbc8BImd",
        "colab": {
          "base_uri": "https://localhost:8080/"
        },
        "outputId": "66b29877-dad3-449d-ea26-7743c6071599"
      },
      "execution_count": null,
      "outputs": [
        {
          "output_type": "stream",
          "name": "stdout",
          "text": [
            "1/1 [==============================] - 0s 395ms/step\n",
            "1/1 [==============================] - 0s 26ms/step\n",
            "1/1 [==============================] - 0s 24ms/step\n",
            "1/1 [==============================] - 0s 26ms/step\n",
            "1/1 [==============================] - 0s 24ms/step\n",
            "1/1 [==============================] - 0s 25ms/step\n",
            "1/1 [==============================] - 0s 27ms/step\n",
            "1/1 [==============================] - 0s 24ms/step\n",
            "1/1 [==============================] - 0s 34ms/step\n",
            "1/1 [==============================] - 0s 26ms/step\n",
            "1/1 [==============================] - 0s 26ms/step\n",
            "1/1 [==============================] - 0s 31ms/step\n",
            "1/1 [==============================] - 0s 26ms/step\n",
            "1/1 [==============================] - 0s 26ms/step\n",
            "1/1 [==============================] - 0s 30ms/step\n",
            "1/1 [==============================] - 0s 24ms/step\n",
            "1/1 [==============================] - 0s 27ms/step\n",
            "1/1 [==============================] - 0s 25ms/step\n",
            "1/1 [==============================] - 0s 28ms/step\n",
            "1/1 [==============================] - 0s 25ms/step\n",
            "1/1 [==============================] - 0s 29ms/step\n",
            "1/1 [==============================] - 0s 29ms/step\n",
            "1/1 [==============================] - 0s 24ms/step\n",
            "1/1 [==============================] - 0s 24ms/step\n",
            "1/1 [==============================] - 0s 23ms/step\n",
            "По ней стремился одиноко по мшистым топким берегам чернели избы здесь и там приют убогого чухонца и лес неведомый лучам в тумане спрятанного солнца кругом шумел и думал\n"
          ]
        }
      ]
    },
    {
      "cell_type": "markdown",
      "source": [
        "По результатам тестирования двух моделей наблюдаются очень хорошие показатели точности. Единственное отличие М1 от М2 - это скорость обучения, для М2 на каждой эпохе средняя скорость обучения 1.26 сек, что меньше чем у М1 средняя скорость обучения на каждой эпохе 2.7 сек. В рамках данной задачи не очень критично, но скажется на задачах с большим объемом информации"
      ],
      "metadata": {
        "id": "NwA8-dR5MoP6"
      }
    },
    {
      "cell_type": "code",
      "source": [
        "from keras.datasets import imdb\n",
        "from keras.utils import pad_sequences"
      ],
      "metadata": {
        "id": "hxQgZ558MnDw"
      },
      "execution_count": 2,
      "outputs": []
    },
    {
      "cell_type": "code",
      "source": [
        "max_features = 10000 # Количество признаков\n",
        "maxlen = 100"
      ],
      "metadata": {
        "id": "lOGNAgcAwxr8"
      },
      "execution_count": 4,
      "outputs": []
    },
    {
      "cell_type": "code",
      "source": [
        "(x_train, y_train), (x_test, y_test) = imdb.load_data(num_words=max_features)"
      ],
      "metadata": {
        "colab": {
          "base_uri": "https://localhost:8080/"
        },
        "id": "15FRwNw9w7Wf",
        "outputId": "08aafcd5-a813-4687-a3ab-0cfaa5dd4908"
      },
      "execution_count": 5,
      "outputs": [
        {
          "output_type": "stream",
          "name": "stdout",
          "text": [
            "Downloading data from https://storage.googleapis.com/tensorflow/tf-keras-datasets/imdb.npz\n",
            "17464789/17464789 [==============================] - 0s 0us/step\n"
          ]
        }
      ]
    },
    {
      "cell_type": "code",
      "source": [
        "# Pad последовательности (примеров в x единицу времени)\n",
        "x_train = pad_sequences(x_train, maxlen=maxlen)\n",
        "x_test = pad_sequences(x_test, maxlen=maxlen)"
      ],
      "metadata": {
        "id": "y-Mt-J0txFA4"
      },
      "execution_count": 6,
      "outputs": []
    },
    {
      "cell_type": "code",
      "source": [
        "imdb_model_1 = Sequential([\n",
        "    Embedding(max_features, 256),\n",
        "    LSTM(128, dropout=0.4, recurrent_dropout=0.4),\n",
        "    Dense(32, activation='relu'),\n",
        "    Dense(1, activation='sigmoid')\n",
        "])"
      ],
      "metadata": {
        "id": "9NzAzYdawXQu"
      },
      "execution_count": 7,
      "outputs": []
    },
    {
      "cell_type": "code",
      "source": [
        "imdb_model_2 = Sequential([\n",
        "    Embedding(max_features, 128),\n",
        "    LSTM(128, dropout=0.4, recurrent_dropout=0.4),\n",
        "    Dense(64, activation='relu'),\n",
        "    Dropout(0.4),\n",
        "    Dense(32, activation='LeakyReLU'),\n",
        "    Dropout(0.4),\n",
        "    Dense(16, activation='elu'),\n",
        "    Dropout(0.2),\n",
        "    Dense(1, activation='sigmoid')\n",
        "])"
      ],
      "metadata": {
        "id": "a_3pz4vEwXKV"
      },
      "execution_count": 8,
      "outputs": []
    },
    {
      "cell_type": "code",
      "source": [
        "imdb_model_3 = Sequential([\n",
        "    Embedding(max_features, 128),\n",
        "    LSTM(128, dropout=0.4, recurrent_dropout=0.4),\n",
        "    Dense(32, activation='relu'),\n",
        "    Dropout(0.4),\n",
        "    Dense(32, activation='LeakyReLU'),\n",
        "    Dropout(0.4),\n",
        "    Dense(16, activation='elu'),\n",
        "    Dropout(0.2),\n",
        "    Dense(1, activation='sigmoid')\n",
        "])"
      ],
      "metadata": {
        "id": "OpJ_ORz-wXCw"
      },
      "execution_count": 9,
      "outputs": []
    },
    {
      "cell_type": "code",
      "source": [
        "opt_adam = tf.keras.optimizers.legacy.Adam(learning_rate=0.01)\n",
        "opt_rmsp = tf.keras.optimizers.legacy.RMSprop()\n",
        "\n",
        "loss_bce = tf.keras.losses.BinaryCrossentropy()"
      ],
      "metadata": {
        "id": "lax-rGRcwW0O"
      },
      "execution_count": null,
      "outputs": []
    },
    {
      "cell_type": "code",
      "source": [
        "batch_list = [250]\n",
        "epoch_list = [15]"
      ],
      "metadata": {
        "id": "HVpeRgHmwW7v"
      },
      "execution_count": null,
      "outputs": []
    },
    {
      "cell_type": "code",
      "source": [
        "MyModel = {}"
      ],
      "metadata": {
        "id": "2RwODPMrwWt1"
      },
      "execution_count": null,
      "outputs": []
    },
    {
      "cell_type": "code",
      "source": [
        "MyModel['models'] = [imdb_model_1, imdb_model_2, imdb_model_3]\n",
        "MyModel['optimizers'] = [opt_adam, opt_rmsp]\n",
        "MyModel['losses'] = [loss_bce]"
      ],
      "metadata": {
        "id": "MSreiv8owWmS"
      },
      "execution_count": null,
      "outputs": []
    },
    {
      "cell_type": "code",
      "source": [
        "def Reshape_2D_to_3D(x1, x2):\n",
        "    \"\"\"Функция преобразует 2D массив в 3D в случае необходимости\"\"\"\n",
        "    if len(x1.shape[1:]) > 2:\n",
        "        return x1, x2\n",
        "    else:\n",
        "        x1 = np.expand_dims(x1, axis=3)\n",
        "        x2 = np.expand_dims(x2, axis=3)\n",
        "        return x1, x2\n",
        "\n",
        "def recall_precision(y_true, y_pred, labels=[0, 1, 2, 3, 4, 5, 6, 7, 8, 9]):\n",
        "    recall_precision_dict = {}\n",
        "    precision = precision_score(y_true, y_pred, labels=labels, average=None)\n",
        "    recall = recall_score(y_true, y_pred, labels=labels, average=None)\n",
        "    for i, el in enumerate(zip(precision, recall)):\n",
        "        recall_precision_dict[f'Класс - {i}'] = [round(el[0],3), round(el[1],3)]\n",
        "    return recall_precision_dict\n",
        "\n",
        "def compile_models_improved(Model, X_train, X_test, y_train, y_test, model_batch=[250], model_epoch=[10], model_patience=10, model_metrics='accuracy'):\n",
        "    \"\"\"Функция осуществляет подбор наилудчшей модели с несколькими оптимизаторами\"\"\"\n",
        "    print(\"Start\")\n",
        "    start = time.time()\n",
        "    result_dict = {}\n",
        "    callback_1 = EarlyStopping(monitor=model_metrics, patience=model_patience)\n",
        "    # X_train, X_test = Reshape_2D_to_3D(X_train, X_test)\n",
        "    for n1, model in enumerate(Model['models']): # Для каждой модели\n",
        "        n1 += 1\n",
        "        for n2, model_optimazer in enumerate(Model['optimizers']): # Для каждого оптимизатора\n",
        "            n2 += 1\n",
        "            for n3, loss_i in enumerate(Model['losses']): # Для каждой функции потерь\n",
        "                n3 += 1\n",
        "                for epoch in model_epoch:\n",
        "                    for batch in model_batch:\n",
        "                        # Компиляция модели\n",
        "                        print(f'Компиляция модели: Model {n1}  Optimizer {n2}  Loss {n3}  Batch={batch}  Epochs={epoch}  Metrics={model_metrics}')\n",
        "                        model.compile(optimizer=model_optimazer, loss=loss_i, metrics=[model_metrics])\n",
        "                        # Обучение модели\n",
        "                        print(f'Обучение модели: Model {n1}  Optimizer {n2} Loss {n3}  Batch={batch}  Epochs={epoch}  Metrics={model_metrics}')\n",
        "                        model.fit(X_train, y_train, batch_size=batch, epochs=epoch, validation_data=(X_test, y_test), callbacks=[callback_1])\n",
        "                        # Оценка модели\n",
        "                        print(f'Оценка модели: Model {n1}  Optimizer {n2}  Loss {n3}  Batch={batch}  Epochs={epoch}  Metrics={model_metrics}')\n",
        "                        test_loss, test_acc = model.evaluate(X_test,  y_test, verbose=0)\n",
        "                        # Запись результатов оценки модели в словарь\n",
        "                        # Лучшая модель будет определяться по наибольшемы результату метрики accuracy\n",
        "                        print(f'Запись результатов: Model {n1}  Optimizer {n2}  Loss {n3}  Batch={batch}  Epochs={epoch}  Metrics={model_metrics}')\n",
        "                        print(\"*\"*90,'\\n')\n",
        "                        result_dict[f'Model_{n1}__Optimizer_{n2}__Loss_{n3}__Batch={batch}__Epochs={epoch}'] = test_acc\n",
        "\n",
        "    model_keys_list = list(result_dict.keys())\n",
        "    model_values_list = list(result_dict.values())\n",
        "\n",
        "    best_accuracy = max(model_values_list)\n",
        "    count_best_accuracy = model_values_list.count(best_accuracy)\n",
        "\n",
        "    best_model_dict = {}\n",
        "\n",
        "    print('Определение наилудчшей модели')\n",
        "    for acc in range(count_best_accuracy):\n",
        "        model_keys_list = list(result_dict.keys())\n",
        "        model_values_list = list(result_dict.values())\n",
        "        if best_accuracy in model_values_list:\n",
        "            acc_index = model_values_list.index(best_accuracy)\n",
        "            best_model_dict[model_keys_list[acc_index]] = best_accuracy\n",
        "            result_dict.pop(model_keys_list[acc_index])\n",
        "        else:\n",
        "            break\n",
        "    stop = time.time()\n",
        "    print(\"Time\", stop - start)\n",
        "    return best_model_dict, result_dict"
      ],
      "metadata": {
        "id": "XLhdSN__T6K7"
      },
      "execution_count": null,
      "outputs": []
    },
    {
      "cell_type": "code",
      "source": [
        "best_model, result_dict_models = compile_models_improved(MyModel, x_train, x_test, y_train, y_test, batch_list, epoch_list, 10)"
      ],
      "metadata": {
        "colab": {
          "base_uri": "https://localhost:8080/"
        },
        "id": "bmd93OAe2b2l",
        "outputId": "c61276bb-8129-41c2-e4fa-959ef081e034"
      },
      "execution_count": null,
      "outputs": [
        {
          "output_type": "stream",
          "name": "stdout",
          "text": [
            "Start\n",
            "Компиляция модели: Model 1  Optimizer 1  Loss 1  Batch=250  Epochs=15  Metrics=accuracy\n",
            "Обучение модели: Model 1  Optimizer 1 Loss 1  Batch=250  Epochs=15  Metrics=accuracy\n",
            "Epoch 1/15\n",
            "100/100 [==============================] - 181s 2s/step - loss: 0.5360 - accuracy: 0.7227 - val_loss: 0.4320 - val_accuracy: 0.8142\n",
            "Epoch 2/15\n",
            "100/100 [==============================] - 177s 2s/step - loss: 0.3418 - accuracy: 0.8558 - val_loss: 0.3895 - val_accuracy: 0.8407\n",
            "Epoch 3/15\n",
            "100/100 [==============================] - 176s 2s/step - loss: 0.2355 - accuracy: 0.9056 - val_loss: 0.4211 - val_accuracy: 0.8441\n",
            "Epoch 4/15\n",
            "100/100 [==============================] - 178s 2s/step - loss: 0.1579 - accuracy: 0.9386 - val_loss: 0.4735 - val_accuracy: 0.8280\n",
            "Epoch 5/15\n",
            "100/100 [==============================] - 178s 2s/step - loss: 0.1174 - accuracy: 0.9571 - val_loss: 0.5915 - val_accuracy: 0.8276\n",
            "Epoch 6/15\n",
            "100/100 [==============================] - 177s 2s/step - loss: 0.0836 - accuracy: 0.9699 - val_loss: 0.5582 - val_accuracy: 0.8336\n",
            "Epoch 7/15\n",
            "100/100 [==============================] - 179s 2s/step - loss: 0.0792 - accuracy: 0.9712 - val_loss: 0.6358 - val_accuracy: 0.8312\n",
            "Epoch 8/15\n",
            "100/100 [==============================] - 165s 2s/step - loss: 0.0687 - accuracy: 0.9750 - val_loss: 0.6575 - val_accuracy: 0.8300\n",
            "Epoch 9/15\n",
            "100/100 [==============================] - 178s 2s/step - loss: 0.0482 - accuracy: 0.9832 - val_loss: 0.8189 - val_accuracy: 0.8186\n",
            "Epoch 10/15\n",
            "100/100 [==============================] - 177s 2s/step - loss: 0.0434 - accuracy: 0.9858 - val_loss: 0.7510 - val_accuracy: 0.8323\n",
            "Epoch 11/15\n",
            "100/100 [==============================] - 177s 2s/step - loss: 0.0441 - accuracy: 0.9835 - val_loss: 0.8414 - val_accuracy: 0.8273\n",
            "Epoch 12/15\n",
            "100/100 [==============================] - 176s 2s/step - loss: 0.0363 - accuracy: 0.9878 - val_loss: 0.8692 - val_accuracy: 0.8240\n",
            "Epoch 13/15\n",
            "100/100 [==============================] - 176s 2s/step - loss: 0.0377 - accuracy: 0.9875 - val_loss: 0.8459 - val_accuracy: 0.8270\n",
            "Epoch 14/15\n",
            "100/100 [==============================] - 175s 2s/step - loss: 0.0451 - accuracy: 0.9835 - val_loss: 0.8400 - val_accuracy: 0.8256\n",
            "Epoch 15/15\n",
            "100/100 [==============================] - 176s 2s/step - loss: 0.0452 - accuracy: 0.9839 - val_loss: 0.7800 - val_accuracy: 0.8279\n",
            "Оценка модели: Model 1  Optimizer 1  Loss 1  Batch=250  Epochs=15  Metrics=accuracy\n",
            "Запись результатов: Model 1  Optimizer 1  Loss 1  Batch=250  Epochs=15  Metrics=accuracy\n",
            "****************************************************************************************** \n",
            "\n",
            "Компиляция модели: Model 1  Optimizer 2  Loss 1  Batch=250  Epochs=15  Metrics=accuracy\n",
            "Обучение модели: Model 1  Optimizer 2 Loss 1  Batch=250  Epochs=15  Metrics=accuracy\n",
            "Epoch 1/15\n",
            "100/100 [==============================] - 167s 2s/step - loss: 0.0325 - accuracy: 0.9879 - val_loss: 0.9713 - val_accuracy: 0.8280\n",
            "Epoch 2/15\n",
            "100/100 [==============================] - 166s 2s/step - loss: 0.0256 - accuracy: 0.9906 - val_loss: 1.0628 - val_accuracy: 0.8280\n",
            "Epoch 3/15\n",
            "100/100 [==============================] - 176s 2s/step - loss: 0.0223 - accuracy: 0.9918 - val_loss: 1.0774 - val_accuracy: 0.8287\n",
            "Epoch 4/15\n",
            "100/100 [==============================] - 162s 2s/step - loss: 0.0183 - accuracy: 0.9940 - val_loss: 1.1472 - val_accuracy: 0.8273\n",
            "Epoch 5/15\n",
            "100/100 [==============================] - 175s 2s/step - loss: 0.0161 - accuracy: 0.9944 - val_loss: 1.1822 - val_accuracy: 0.8288\n",
            "Epoch 6/15\n",
            "100/100 [==============================] - 174s 2s/step - loss: 0.0150 - accuracy: 0.9950 - val_loss: 1.2461 - val_accuracy: 0.8296\n",
            "Epoch 7/15\n",
            "100/100 [==============================] - 175s 2s/step - loss: 0.0143 - accuracy: 0.9949 - val_loss: 1.2554 - val_accuracy: 0.8293\n",
            "Epoch 8/15\n",
            "100/100 [==============================] - 176s 2s/step - loss: 0.0115 - accuracy: 0.9963 - val_loss: 1.3137 - val_accuracy: 0.8293\n",
            "Epoch 9/15\n",
            "100/100 [==============================] - 179s 2s/step - loss: 0.0104 - accuracy: 0.9960 - val_loss: 1.3502 - val_accuracy: 0.8279\n",
            "Epoch 10/15\n",
            "100/100 [==============================] - 178s 2s/step - loss: 0.0109 - accuracy: 0.9964 - val_loss: 1.3657 - val_accuracy: 0.8287\n",
            "Epoch 11/15\n",
            "100/100 [==============================] - 177s 2s/step - loss: 0.0099 - accuracy: 0.9969 - val_loss: 1.3878 - val_accuracy: 0.8282\n",
            "Epoch 12/15\n",
            "100/100 [==============================] - 167s 2s/step - loss: 0.0085 - accuracy: 0.9972 - val_loss: 1.4569 - val_accuracy: 0.8274\n",
            "Epoch 13/15\n",
            "100/100 [==============================] - 177s 2s/step - loss: 0.0073 - accuracy: 0.9974 - val_loss: 1.5048 - val_accuracy: 0.8286\n",
            "Epoch 14/15\n",
            "100/100 [==============================] - 174s 2s/step - loss: 0.0077 - accuracy: 0.9974 - val_loss: 1.5049 - val_accuracy: 0.8292\n",
            "Epoch 15/15\n",
            "100/100 [==============================] - 163s 2s/step - loss: 0.0071 - accuracy: 0.9978 - val_loss: 1.5372 - val_accuracy: 0.8282\n",
            "Оценка модели: Model 1  Optimizer 2  Loss 1  Batch=250  Epochs=15  Metrics=accuracy\n",
            "Запись результатов: Model 1  Optimizer 2  Loss 1  Batch=250  Epochs=15  Metrics=accuracy\n",
            "****************************************************************************************** \n",
            "\n",
            "Компиляция модели: Model 2  Optimizer 1  Loss 1  Batch=250  Epochs=15  Metrics=accuracy\n",
            "Обучение модели: Model 2  Optimizer 1 Loss 1  Batch=250  Epochs=15  Metrics=accuracy\n",
            "Epoch 1/15\n",
            "100/100 [==============================] - 130s 1s/step - loss: 0.7009 - accuracy: 0.5004 - val_loss: 0.6934 - val_accuracy: 0.5000\n",
            "Epoch 2/15\n",
            "100/100 [==============================] - 146s 1s/step - loss: 0.6938 - accuracy: 0.4974 - val_loss: 0.6933 - val_accuracy: 0.5000\n",
            "Epoch 3/15\n",
            "100/100 [==============================] - 145s 1s/step - loss: 0.6934 - accuracy: 0.5001 - val_loss: 0.6932 - val_accuracy: 0.5000\n",
            "Epoch 4/15\n",
            "100/100 [==============================] - 147s 1s/step - loss: 0.6935 - accuracy: 0.4995 - val_loss: 0.6934 - val_accuracy: 0.5000\n",
            "Epoch 5/15\n",
            "100/100 [==============================] - 148s 1s/step - loss: 0.6935 - accuracy: 0.4994 - val_loss: 0.6932 - val_accuracy: 0.5000\n",
            "Epoch 6/15\n",
            "100/100 [==============================] - 149s 1s/step - loss: 0.6933 - accuracy: 0.4994 - val_loss: 0.6932 - val_accuracy: 0.5000\n",
            "Epoch 7/15\n",
            "100/100 [==============================] - 149s 1s/step - loss: 0.6932 - accuracy: 0.5007 - val_loss: 0.6933 - val_accuracy: 0.5000\n",
            "Epoch 8/15\n",
            "100/100 [==============================] - 149s 1s/step - loss: 0.6933 - accuracy: 0.5006 - val_loss: 0.6932 - val_accuracy: 0.5000\n",
            "Epoch 9/15\n",
            "100/100 [==============================] - 147s 1s/step - loss: 0.6933 - accuracy: 0.4962 - val_loss: 0.6932 - val_accuracy: 0.5000\n",
            "Epoch 10/15\n",
            "100/100 [==============================] - 132s 1s/step - loss: 0.6933 - accuracy: 0.4997 - val_loss: 0.6938 - val_accuracy: 0.5000\n",
            "Epoch 11/15\n",
            "100/100 [==============================] - 151s 2s/step - loss: 0.6932 - accuracy: 0.5039 - val_loss: 0.6932 - val_accuracy: 0.5000\n",
            "Epoch 12/15\n",
            "100/100 [==============================] - 149s 1s/step - loss: 0.6934 - accuracy: 0.4990 - val_loss: 0.6932 - val_accuracy: 0.5000\n",
            "Epoch 13/15\n",
            "100/100 [==============================] - 149s 1s/step - loss: 0.6934 - accuracy: 0.4960 - val_loss: 0.6932 - val_accuracy: 0.5000\n",
            "Epoch 14/15\n",
            "100/100 [==============================] - 132s 1s/step - loss: 0.6933 - accuracy: 0.4974 - val_loss: 0.6932 - val_accuracy: 0.5000\n",
            "Epoch 15/15\n",
            "100/100 [==============================] - 148s 1s/step - loss: 0.6933 - accuracy: 0.5009 - val_loss: 0.6932 - val_accuracy: 0.5000\n",
            "Оценка модели: Model 2  Optimizer 1  Loss 1  Batch=250  Epochs=15  Metrics=accuracy\n",
            "Запись результатов: Model 2  Optimizer 1  Loss 1  Batch=250  Epochs=15  Metrics=accuracy\n",
            "****************************************************************************************** \n",
            "\n",
            "Компиляция модели: Model 2  Optimizer 2  Loss 1  Batch=250  Epochs=15  Metrics=accuracy\n",
            "Обучение модели: Model 2  Optimizer 2 Loss 1  Batch=250  Epochs=15  Metrics=accuracy\n",
            "Epoch 1/15\n",
            "100/100 [==============================] - 132s 1s/step - loss: 0.6933 - accuracy: 0.4957 - val_loss: 0.6931 - val_accuracy: 0.5000\n",
            "Epoch 2/15\n",
            "100/100 [==============================] - 148s 1s/step - loss: 0.6932 - accuracy: 0.5018 - val_loss: 0.6931 - val_accuracy: 0.5000\n",
            "Epoch 3/15\n",
            "100/100 [==============================] - 147s 1s/step - loss: 0.6932 - accuracy: 0.4946 - val_loss: 0.6931 - val_accuracy: 0.5000\n",
            "Epoch 4/15\n",
            "100/100 [==============================] - 147s 1s/step - loss: 0.6932 - accuracy: 0.4991 - val_loss: 0.6932 - val_accuracy: 0.5000\n",
            "Epoch 5/15\n",
            "100/100 [==============================] - 147s 1s/step - loss: 0.6932 - accuracy: 0.5014 - val_loss: 0.6932 - val_accuracy: 0.5000\n",
            "Epoch 6/15\n",
            "100/100 [==============================] - 146s 1s/step - loss: 0.6932 - accuracy: 0.4976 - val_loss: 0.6931 - val_accuracy: 0.5000\n",
            "Epoch 7/15\n",
            "100/100 [==============================] - 129s 1s/step - loss: 0.6932 - accuracy: 0.5040 - val_loss: 0.6932 - val_accuracy: 0.5000\n",
            "Epoch 8/15\n",
            "100/100 [==============================] - 129s 1s/step - loss: 0.6932 - accuracy: 0.4949 - val_loss: 0.6932 - val_accuracy: 0.5000\n",
            "Epoch 9/15\n",
            "100/100 [==============================] - 147s 1s/step - loss: 0.6932 - accuracy: 0.4979 - val_loss: 0.6931 - val_accuracy: 0.5000\n",
            "Epoch 10/15\n",
            "100/100 [==============================] - 148s 1s/step - loss: 0.6932 - accuracy: 0.4964 - val_loss: 0.6931 - val_accuracy: 0.5000\n",
            "Epoch 11/15\n",
            "100/100 [==============================] - 147s 1s/step - loss: 0.6932 - accuracy: 0.4909 - val_loss: 0.6931 - val_accuracy: 0.5000\n",
            "Epoch 12/15\n",
            "100/100 [==============================] - 146s 1s/step - loss: 0.6932 - accuracy: 0.4954 - val_loss: 0.6931 - val_accuracy: 0.5000\n",
            "Epoch 13/15\n",
            "100/100 [==============================] - 144s 1s/step - loss: 0.6932 - accuracy: 0.4998 - val_loss: 0.6931 - val_accuracy: 0.5000\n",
            "Epoch 14/15\n",
            "100/100 [==============================] - 144s 1s/step - loss: 0.6932 - accuracy: 0.5012 - val_loss: 0.6932 - val_accuracy: 0.5000\n",
            "Epoch 15/15\n",
            "100/100 [==============================] - 126s 1s/step - loss: 0.6932 - accuracy: 0.5024 - val_loss: 0.6932 - val_accuracy: 0.5000\n",
            "Оценка модели: Model 2  Optimizer 2  Loss 1  Batch=250  Epochs=15  Metrics=accuracy\n",
            "Запись результатов: Model 2  Optimizer 2  Loss 1  Batch=250  Epochs=15  Metrics=accuracy\n",
            "****************************************************************************************** \n",
            "\n",
            "Компиляция модели: Model 3  Optimizer 1  Loss 1  Batch=250  Epochs=15  Metrics=accuracy\n",
            "Обучение модели: Model 3  Optimizer 1 Loss 1  Batch=250  Epochs=15  Metrics=accuracy\n",
            "Epoch 1/15\n",
            "100/100 [==============================] - 147s 1s/step - loss: 0.6969 - accuracy: 0.4978 - val_loss: 0.6937 - val_accuracy: 0.5000\n",
            "Epoch 2/15\n",
            "100/100 [==============================] - 144s 1s/step - loss: 0.6935 - accuracy: 0.4963 - val_loss: 0.6932 - val_accuracy: 0.5000\n",
            "Epoch 3/15\n",
            "100/100 [==============================] - 127s 1s/step - loss: 0.6934 - accuracy: 0.4965 - val_loss: 0.6932 - val_accuracy: 0.5000\n",
            "Epoch 4/15\n",
            "100/100 [==============================] - 145s 1s/step - loss: 0.6934 - accuracy: 0.5002 - val_loss: 0.6933 - val_accuracy: 0.5000\n",
            "Epoch 5/15\n",
            "100/100 [==============================] - 128s 1s/step - loss: 0.6933 - accuracy: 0.5026 - val_loss: 0.6931 - val_accuracy: 0.5000\n",
            "Epoch 6/15\n",
            "100/100 [==============================] - 146s 1s/step - loss: 0.6933 - accuracy: 0.5007 - val_loss: 0.6935 - val_accuracy: 0.5000\n",
            "Epoch 7/15\n",
            "100/100 [==============================] - 144s 1s/step - loss: 0.6933 - accuracy: 0.4949 - val_loss: 0.6932 - val_accuracy: 0.5000\n",
            "Epoch 8/15\n",
            "100/100 [==============================] - 145s 1s/step - loss: 0.6933 - accuracy: 0.5040 - val_loss: 0.6936 - val_accuracy: 0.5000\n",
            "Epoch 9/15\n",
            "100/100 [==============================] - 145s 1s/step - loss: 0.6933 - accuracy: 0.5012 - val_loss: 0.6933 - val_accuracy: 0.5000\n",
            "Epoch 10/15\n",
            "100/100 [==============================] - 145s 1s/step - loss: 0.6933 - accuracy: 0.5048 - val_loss: 0.6931 - val_accuracy: 0.5000\n",
            "Epoch 11/15\n",
            "100/100 [==============================] - 144s 1s/step - loss: 0.6934 - accuracy: 0.5018 - val_loss: 0.6932 - val_accuracy: 0.5000\n",
            "Epoch 12/15\n",
            "100/100 [==============================] - 145s 1s/step - loss: 0.6934 - accuracy: 0.4973 - val_loss: 0.6933 - val_accuracy: 0.5000\n",
            "Epoch 13/15\n",
            "100/100 [==============================] - 145s 1s/step - loss: 0.6934 - accuracy: 0.4962 - val_loss: 0.6931 - val_accuracy: 0.5000\n",
            "Epoch 14/15\n",
            "100/100 [==============================] - 146s 1s/step - loss: 0.6934 - accuracy: 0.4968 - val_loss: 0.6932 - val_accuracy: 0.5000\n",
            "Epoch 15/15\n",
            "100/100 [==============================] - 146s 1s/step - loss: 0.6932 - accuracy: 0.5057 - val_loss: 0.6931 - val_accuracy: 0.5000\n",
            "Оценка модели: Model 3  Optimizer 1  Loss 1  Batch=250  Epochs=15  Metrics=accuracy\n",
            "Запись результатов: Model 3  Optimizer 1  Loss 1  Batch=250  Epochs=15  Metrics=accuracy\n",
            "****************************************************************************************** \n",
            "\n",
            "Компиляция модели: Model 3  Optimizer 2  Loss 1  Batch=250  Epochs=15  Metrics=accuracy\n",
            "Обучение модели: Model 3  Optimizer 2 Loss 1  Batch=250  Epochs=15  Metrics=accuracy\n",
            "Epoch 1/15\n",
            "100/100 [==============================] - 148s 1s/step - loss: 0.6932 - accuracy: 0.5018 - val_loss: 0.6931 - val_accuracy: 0.5000\n",
            "Epoch 2/15\n",
            "100/100 [==============================] - 145s 1s/step - loss: 0.6932 - accuracy: 0.4977 - val_loss: 0.6932 - val_accuracy: 0.5000\n",
            "Epoch 3/15\n",
            "100/100 [==============================] - 144s 1s/step - loss: 0.6933 - accuracy: 0.4924 - val_loss: 0.6932 - val_accuracy: 0.5000\n",
            "Epoch 4/15\n",
            "100/100 [==============================] - 144s 1s/step - loss: 0.6932 - accuracy: 0.5016 - val_loss: 0.6931 - val_accuracy: 0.5000\n",
            "Epoch 5/15\n",
            "100/100 [==============================] - 126s 1s/step - loss: 0.6932 - accuracy: 0.4980 - val_loss: 0.6932 - val_accuracy: 0.5000\n",
            "Epoch 6/15\n",
            "100/100 [==============================] - 144s 1s/step - loss: 0.6932 - accuracy: 0.4946 - val_loss: 0.6931 - val_accuracy: 0.5000\n",
            "Epoch 7/15\n",
            "100/100 [==============================] - 145s 1s/step - loss: 0.6932 - accuracy: 0.5016 - val_loss: 0.6931 - val_accuracy: 0.5000\n",
            "Epoch 8/15\n",
            "100/100 [==============================] - 145s 1s/step - loss: 0.6932 - accuracy: 0.4986 - val_loss: 0.6932 - val_accuracy: 0.5000\n",
            "Epoch 9/15\n",
            "100/100 [==============================] - 146s 1s/step - loss: 0.6932 - accuracy: 0.4995 - val_loss: 0.6931 - val_accuracy: 0.5000\n",
            "Epoch 10/15\n",
            "100/100 [==============================] - 145s 1s/step - loss: 0.6932 - accuracy: 0.5009 - val_loss: 0.6932 - val_accuracy: 0.5000\n",
            "Epoch 11/15\n",
            "100/100 [==============================] - 145s 1s/step - loss: 0.6932 - accuracy: 0.4947 - val_loss: 0.6931 - val_accuracy: 0.5000\n",
            "Оценка модели: Model 3  Optimizer 2  Loss 1  Batch=250  Epochs=15  Metrics=accuracy\n",
            "Запись результатов: Model 3  Optimizer 2  Loss 1  Batch=250  Epochs=15  Metrics=accuracy\n",
            "****************************************************************************************** \n",
            "\n",
            "Определение наилудчшей модели\n",
            "Time 13584.003928661346\n"
          ]
        }
      ]
    },
    {
      "cell_type": "code",
      "source": [
        "best_model"
      ],
      "metadata": {
        "colab": {
          "base_uri": "https://localhost:8080/"
        },
        "id": "PxpOvjhKKq-b",
        "outputId": "bbea4ddb-4a7e-4869-b088-0cf456df9bb4"
      },
      "execution_count": null,
      "outputs": [
        {
          "output_type": "execute_result",
          "data": {
            "text/plain": [
              "{'Model_1__Optimizer_2__Loss_1__Batch=250__Epochs=15': 0.8281599879264832}"
            ]
          },
          "metadata": {},
          "execution_count": 20
        }
      ]
    },
    {
      "cell_type": "markdown",
      "source": [
        "По результатам подбора моделей М1, М2, М3, batch_size = 250, epoch = 15 с оптимизаторами Adam и RMSprompt для датасета imdb наилудчшей была определена модель М1\n",
        "\n",
        "    imdb_model_1 = Sequential([\n",
        "        Embedding(max_features, 256),\n",
        "        LSTM(128, dropout=0.4, recurrent_dropout=0.4),\n",
        "        Dense(32, activation='relu'),\n",
        "        Dense(1, activation='sigmoid')\n",
        "    ])\n",
        "\n",
        "с одним слоем long short-tern memory и двумя полносвязными слоями\n",
        "Модель показала точность равной 0.83 на валидационной выборке.\n",
        "\n",
        "Общее время тестирования трех моделей заняло 13584 сек. = 3.77 часа"
      ],
      "metadata": {
        "id": "YpFRU056ESqb"
      }
    }
  ]
}